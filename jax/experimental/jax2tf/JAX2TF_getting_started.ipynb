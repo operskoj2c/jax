{
  "nbformat": 4,
  "nbformat_minor": 0,
  "metadata": {
    "colab": {
      "name": "JAX2TF_getting_started.ipynb",
      "provenance": [],
      "collapsed_sections": [],
      "toc_visible": true
    },
    "kernelspec": {
      "display_name": "Python 3",
      "name": "python3"
    }
  },
  "cells": [
    {
      "cell_type": "markdown",
      "metadata": {
        "id": "mB5eSZXZIO9W"
      },
      "source": [
        "JAX-TensorFlow interoperation with JAX2TF\n",
        "============================================================\n",
        "\n",
        "Link: go/jax2tf-colab\n",
        "\n",
        "*Contact: necula@google.com, arnoegw@google.com (September 2020)*\n",
        "\n",
        "[![Run in Colab](https://colab.research.google.com/assets/colab-badge.svg)](https://colab.sandbox.google.com/github/google/jax/blob/master/jax/experimental/jax2tf/JAX2TF_getting_started.ipynb)\n",
        "\n",
        "This Colab demonstrates how to take a model written and trained in JAX\n",
        "(or Flax), and convert it with [JAX2TF](https://github.com/google/jax/tree/master/jax/experimental/jax2tf) in order to use\n",
        "TensorFlow tools on it. We will demonstrate saving to SavedModel,\n",
        "reusing it in TF Hub, optionally with fine tuning. \n",
        "\n",
        "# Overview\n",
        "\n",
        "The section [\"Getting started with JAX2TF\"](#scrollTo=yUShtu6TOYkw)\n",
        "shows the basics of using JAX2TF on a very simple JAX function,\n",
        "converting it for execution with TF, and then saving it to SavedModel.\n",
        "Then we prepare for the MNIST example; we show how to use TF DataSets to\n",
        "load the MNIST training data, and preprocess it with tf.data ([\"Get\n",
        "MNIST data from TensorFlow DataSets\"](#scrollTo=lc3QJa3NVx4B)). In [\"MNIST in pure JAX\"](#scrollTo=BjB03X9pzblu) we\n",
        "define and train an MNIST model using pure JAX (for the reader who prefers fewer abstractions). \n",
        "In [\"MNIST in Flax\"](#scrollTo=ALKaq_cL8fTj) we show how to define and\n",
        "train an MNIST model using Flax, obtaining again a predictor and a set\n",
        "of parameters. \n",
        "\n",
        "All the cells up to this point are independent of JAX2TF. In order to\n",
        "set the stage for JAX2TF conversion and saving to SavedModel, we\n",
        "express the trained model, whether in pure JAX or Flax, as a pair:\n",
        "\n",
        "  * **func**: a function with signature: \n",
        "```(params: Parameters, images: BatchedImages) -> Predictions```\n",
        "  * **params**: of type ```Parameters```, the model parameters as a list\n",
        "  or tuple or dictionaries of arrays. We expose the parameters\n",
        "  like this because when we prepare the SavedModel, we will want to\n",
        "  process them with ```tf.nest.map_structure``` to create \n",
        "  ```tf.Variable```s.\n",
        "\n",
        "\n",
        "The more interesting part starts in \n",
        "[\"Export to SavedModel\"](#scrollTo=Og3FPMFNXRd9) where we show how to\n",
        "export the trained models to TF so that we can save it in a SavedModel.\n",
        "All you need here is a pair of a predictor and the parameters,\n",
        "independent of how you wrote those with JAX or Flax. \n",
        "\n",
        "In [\"Reuse with Keras of the MNIST feature extractor\"](#scrollTo=Fhm2kxL_gIF5)\n",
        "we show how to reuse only the feature extractor (all but the last layer)\n",
        "of the JAX-trained model, in a Keras model with its own\n",
        "classification layer, trained in Keras. \n",
        "\n",
        "**Credits**: the model code is inspired by (go/mnist-jax-colab)."
      ]
    },
    {
      "cell_type": "markdown",
      "metadata": {
        "id": "yUShtu6TOYkw"
      },
      "source": [
        "# Getting started with JAX2TF\n",
        "\n",
        "Connect this Colab to a runtime that includes for JAX and TF, e.g., \n",
        "the public Colab hosted runtime.\n",
        "We have tested with CPU/GPU/TPU runtimes (for the TPU runtime\n",
        "the `with tf.device` context managers are important.)"
      ]
    },
    {
      "cell_type": "code",
      "metadata": {
        "id": "lVm5CbfzQuPe",
        "outputId": "a8abe5a5-438b-46d6-9a77-3cc84d6fad23",
        "colab": {
          "base_uri": "https://localhost:8080/"
        }
      },
      "source": [
        "import time\n",
        "from typing import Any, Callable, Optional, Sequence, Tuple\n",
        "\n",
        "import jax\n",
        "import jax.numpy as jnp\n",
        "from jax.experimental import jax2tf\n",
        "\n",
        "import numpy as np\n",
        "import tensorflow as tf\n",
        "\n",
        "# A simple JAX function, using jit and grad and a couple of jax.numpy functions\n",
        "hello_jax = jax.jit(jax.grad(lambda x: jnp.log(jnp.cos(x))))\n",
        "x = 0.42\n",
        "print(f\"hello_jax(x) = {hello_jax(x)}\")"
      ],
      "execution_count": 1,
      "outputs": [
        {
          "output_type": "stream",
          "text": [
            "hello_jax(x) = -0.44657254219055176\n"
          ],
          "name": "stdout"
        },
        {
          "output_type": "stream",
          "text": [
            "/usr/local/lib/python3.6/dist-packages/jax/lib/xla_bridge.py:130: UserWarning: No GPU/TPU found, falling back to CPU.\n",
            "  warnings.warn('No GPU/TPU found, falling back to CPU.')\n"
          ],
          "name": "stderr"
        }
      ]
    },
    {
      "cell_type": "markdown",
      "metadata": {
        "id": "5WXPplmvUoCK"
      },
      "source": [
        "We apply the ```jax2tf.convert``` wrapper to ```demo_jax``` to obtain a\n",
        "function that executes **exactly as if it were written entirely with TF\n",
        "ops**. This is what will enable us to use the resulting function in\n",
        "a TF environment, e.g., to execute it eagerly, in graph mode, and even\n",
        "with the XLA compiler, and to save it in a SavedModel.  "
      ]
    },
    {
      "cell_type": "code",
      "metadata": {
        "id": "mp5XpYpTUnA9",
        "outputId": "6644db00-717f-47e4-b615-de24ed832b08",
        "colab": {
          "base_uri": "https://localhost:8080/"
        }
      },
      "source": [
        "hello_tf = jax2tf.convert(hello_jax)\n",
        "print(f\"Execute with TF eager: hello_tf(x) = {hello_tf(x)}\")\n",
        "\n",
        "# It is best to turn of autograph to avoid some warnings. \n",
        "hello_tf_graph = tf.function(hello_tf, autograph=False)\n",
        "print(f\"Execute with TF graph: hello_tf_graph(x) = {hello_tf_graph(x)}\")\n",
        "\n",
        "hello_tf_graph_compiled = tf.function(hello_tf, autograph=False, experimental_compile=True)\n",
        "print(f\"Execute with TF graph: hello_tf_graph_compiled(x) = {hello_tf_graph_compiled(x)}\")"
      ],
      "execution_count": 2,
      "outputs": [
        {
          "output_type": "stream",
          "text": [
            "Execute with TF eager: hello_tf(x) = -0.44657254219055176\n",
            "WARNING:tensorflow:@custom_gradient grad_fn has 'variables' in signature, but no ResourceVariables were used on the forward pass.\n"
          ],
          "name": "stdout"
        },
        {
          "output_type": "stream",
          "text": [
            "WARNING:tensorflow:@custom_gradient grad_fn has 'variables' in signature, but no ResourceVariables were used on the forward pass.\n"
          ],
          "name": "stderr"
        },
        {
          "output_type": "stream",
          "text": [
            "Execute with TF graph: hello_tf_graph(x) = -0.44657254219055176\n",
            "WARNING:tensorflow:@custom_gradient grad_fn has 'variables' in signature, but no ResourceVariables were used on the forward pass.\n"
          ],
          "name": "stdout"
        },
        {
          "output_type": "stream",
          "text": [
            "WARNING:tensorflow:@custom_gradient grad_fn has 'variables' in signature, but no ResourceVariables were used on the forward pass.\n"
          ],
          "name": "stderr"
        },
        {
          "output_type": "stream",
          "text": [
            "Execute with TF graph: hello_tf_graph_compiled(x) = -0.44657254219055176\n"
          ],
          "name": "stdout"
        }
      ]
    },
    {
      "cell_type": "markdown",
      "metadata": {
        "id": "0wfxGnU2lhtm"
      },
      "source": [
        "You can inspect the TF graph and see that it contains a bunch of TF ops:"
      ]
    },
    {
      "cell_type": "code",
      "metadata": {
        "id": "yigHDAThSykN",
        "outputId": "35ac1abd-6744-4b71-cda0-b1bbf61d9961",
        "colab": {
          "base_uri": "https://localhost:8080/"
        }
      },
      "source": [
        "graph_def = hello_tf_graph.get_concrete_function(x).graph.as_graph_def()\n",
        "#TODO: colab.tfgraph.display(graph=graph_def)\n",
        "print(graph_def)"
      ],
      "execution_count": 3,
      "outputs": [
        {
          "output_type": "stream",
          "text": [
            "node {\n",
            "  name: \"Const\"\n",
            "  op: \"Const\"\n",
            "  attr {\n",
            "    key: \"dtype\"\n",
            "    value {\n",
            "      type: DT_FLOAT\n",
            "    }\n",
            "  }\n",
            "  attr {\n",
            "    key: \"value\"\n",
            "    value {\n",
            "      tensor {\n",
            "        dtype: DT_FLOAT\n",
            "        tensor_shape {\n",
            "        }\n",
            "        float_val: 0.41999998688697815\n",
            "      }\n",
            "    }\n",
            "  }\n",
            "}\n",
            "node {\n",
            "  name: \"Const_1\"\n",
            "  op: \"Const\"\n",
            "  attr {\n",
            "    key: \"dtype\"\n",
            "    value {\n",
            "      type: DT_FLOAT\n",
            "    }\n",
            "  }\n",
            "  attr {\n",
            "    key: \"value\"\n",
            "    value {\n",
            "      tensor {\n",
            "        dtype: DT_FLOAT\n",
            "        tensor_shape {\n",
            "        }\n",
            "        float_val: 0.41999998688697815\n",
            "      }\n",
            "    }\n",
            "  }\n",
            "}\n",
            "node {\n",
            "  name: \"Cos\"\n",
            "  op: \"Cos\"\n",
            "  input: \"Const_1\"\n",
            "  attr {\n",
            "    key: \"T\"\n",
            "    value {\n",
            "      type: DT_FLOAT\n",
            "    }\n",
            "  }\n",
            "}\n",
            "node {\n",
            "  name: \"Sin\"\n",
            "  op: \"Sin\"\n",
            "  input: \"Const_1\"\n",
            "  attr {\n",
            "    key: \"T\"\n",
            "    value {\n",
            "      type: DT_FLOAT\n",
            "    }\n",
            "  }\n",
            "}\n",
            "node {\n",
            "  name: \"Log\"\n",
            "  op: \"Log\"\n",
            "  input: \"Cos\"\n",
            "  attr {\n",
            "    key: \"T\"\n",
            "    value {\n",
            "      type: DT_FLOAT\n",
            "    }\n",
            "  }\n",
            "}\n",
            "node {\n",
            "  name: \"Const_2\"\n",
            "  op: \"Const\"\n",
            "  attr {\n",
            "    key: \"dtype\"\n",
            "    value {\n",
            "      type: DT_FLOAT\n",
            "    }\n",
            "  }\n",
            "  attr {\n",
            "    key: \"value\"\n",
            "    value {\n",
            "      tensor {\n",
            "        dtype: DT_FLOAT\n",
            "        tensor_shape {\n",
            "        }\n",
            "        float_val: 1.0\n",
            "      }\n",
            "    }\n",
            "  }\n",
            "}\n",
            "node {\n",
            "  name: \"truediv\"\n",
            "  op: \"RealDiv\"\n",
            "  input: \"Const_2\"\n",
            "  input: \"Cos\"\n",
            "  attr {\n",
            "    key: \"T\"\n",
            "    value {\n",
            "      type: DT_FLOAT\n",
            "    }\n",
            "  }\n",
            "}\n",
            "node {\n",
            "  name: \"Neg\"\n",
            "  op: \"Neg\"\n",
            "  input: \"truediv\"\n",
            "  attr {\n",
            "    key: \"T\"\n",
            "    value {\n",
            "      type: DT_FLOAT\n",
            "    }\n",
            "  }\n",
            "}\n",
            "node {\n",
            "  name: \"Mul\"\n",
            "  op: \"Mul\"\n",
            "  input: \"Neg\"\n",
            "  input: \"Sin\"\n",
            "  attr {\n",
            "    key: \"T\"\n",
            "    value {\n",
            "      type: DT_FLOAT\n",
            "    }\n",
            "  }\n",
            "}\n",
            "node {\n",
            "  name: \"Identity\"\n",
            "  op: \"Identity\"\n",
            "  input: \"Mul\"\n",
            "  attr {\n",
            "    key: \"T\"\n",
            "    value {\n",
            "      type: DT_FLOAT\n",
            "    }\n",
            "  }\n",
            "}\n",
            "node {\n",
            "  name: \"IdentityN\"\n",
            "  op: \"IdentityN\"\n",
            "  input: \"Mul\"\n",
            "  input: \"Const_1\"\n",
            "  attr {\n",
            "    key: \"T\"\n",
            "    value {\n",
            "      list {\n",
            "        type: DT_FLOAT\n",
            "        type: DT_FLOAT\n",
            "      }\n",
            "    }\n",
            "  }\n",
            "  attr {\n",
            "    key: \"_gradient_op_type\"\n",
            "    value {\n",
            "      s: \"CustomGradient-15\"\n",
            "    }\n",
            "  }\n",
            "}\n",
            "node {\n",
            "  name: \"Identity_1\"\n",
            "  op: \"Identity\"\n",
            "  input: \"IdentityN\"\n",
            "  attr {\n",
            "    key: \"T\"\n",
            "    value {\n",
            "      type: DT_FLOAT\n",
            "    }\n",
            "  }\n",
            "}\n",
            "versions {\n",
            "  producer: 440\n",
            "}\n",
            "\n"
          ],
          "name": "stdout"
        }
      ]
    },
    {
      "cell_type": "markdown",
      "metadata": {
        "id": "NrIY8L4QWBab"
      },
      "source": [
        "We can even differentiate the converted function, and the result is\n",
        "guaranteed to be the same as if we differentiated it in JAX, and this\n",
        "even if we had JAX custom gradients defined. (This is achieved by using\n",
        "[tf.custom_gradient](https://www.tensorflow.org/api_docs/python/tf/custom_gradient) \n",
        "to call back into the JAX autodiff machinery and convert to TF \n",
        "the JAX gradient function.)"
      ]
    },
    {
      "cell_type": "code",
      "metadata": {
        "id": "rlJGB3ipWa-h",
        "outputId": "33c8f6b9-1e26-4a8c-c1b1-0d777ff9fc4b",
        "colab": {
          "base_uri": "https://localhost:8080/"
        }
      },
      "source": [
        "print(f\"hello_jax_grad(x) = {jax.grad(hello_jax)(x)}\")\n",
        "\n",
        "x_v = tf.Variable(x)\n",
        "with tf.GradientTape() as tape:\n",
        "  tape.watch(x_v)\n",
        "  y = hello_tf(x_v)\n",
        "\n",
        "print(f\"hello_tf_grad(x) = {tape.gradient(y, x_v)}\")"
      ],
      "execution_count": 4,
      "outputs": [
        {
          "output_type": "stream",
          "text": [
            "hello_jax_grad(x) = -1.1994270086288452\n",
            "hello_tf_grad(x) = -1.1994270086288452\n"
          ],
          "name": "stdout"
        }
      ]
    },
    {
      "cell_type": "markdown",
      "metadata": {
        "id": "_kX9X7fIT4Tg"
      },
      "source": [
        "Since ```hello_tf``` behaves like any TF function, we can put it\n",
        "into a SavedModel, using **standard** TF \n",
        "[tools](https://www.tensorflow.org/guide/saved_model):"
      ]
    },
    {
      "cell_type": "code",
      "metadata": {
        "id": "Q49PgCt1TNT1",
        "outputId": "2fdb7f8f-54eb-436a-9cdd-754a30a4db2d",
        "colab": {
          "base_uri": "https://localhost:8080/"
        }
      },
      "source": [
        "hello_model = tf.Module()\n",
        "hello_model.f = tf.function(hello_tf, \n",
        "                            autograph=False,  # Avoid warnings\n",
        "                            input_signature=[tf.TensorSpec([], tf.float32)])\n",
        "hello_dir = '/tmp/jax2tf/hello'\n",
        "tf.saved_model.save(hello_model, hello_dir)\n",
        "\n",
        "# Restoring (note: the restored model does *not* require JAX to run, just XLA).\n",
        "restored_model = tf.saved_model.load(hello_dir)\n",
        "print(f\"restored_model(x) = {restored_model.f(x)}\")"
      ],
      "execution_count": 5,
      "outputs": [
        {
          "output_type": "stream",
          "text": [
            "WARNING:tensorflow:@custom_gradient grad_fn has 'variables' in signature, but no ResourceVariables were used on the forward pass.\n"
          ],
          "name": "stdout"
        },
        {
          "output_type": "stream",
          "text": [
            "WARNING:tensorflow:@custom_gradient grad_fn has 'variables' in signature, but no ResourceVariables were used on the forward pass.\n"
          ],
          "name": "stderr"
        },
        {
          "output_type": "stream",
          "text": [
            "INFO:tensorflow:Assets written to: /tmp/jax2tf/hello/assets\n"
          ],
          "name": "stdout"
        },
        {
          "output_type": "stream",
          "text": [
            "INFO:tensorflow:Assets written to: /tmp/jax2tf/hello/assets\n"
          ],
          "name": "stderr"
        },
        {
          "output_type": "stream",
          "text": [
            "WARNING:tensorflow:Importing a function (__inference_converted_fun_107) with ops with custom gradients. Will likely fail if a gradient is requested.\n"
          ],
          "name": "stdout"
        },
        {
          "output_type": "stream",
          "text": [
            "WARNING:tensorflow:Importing a function (__inference_converted_fun_107) with ops with custom gradients. Will likely fail if a gradient is requested.\n"
          ],
          "name": "stderr"
        },
        {
          "output_type": "stream",
          "text": [
            "restored_model(x) = -0.44657254219055176\n"
          ],
          "name": "stdout"
        }
      ]
    },
    {
      "cell_type": "markdown",
      "metadata": {
        "id": "B3HTx5gXAg2B"
      },
      "source": [
        "# Define and train MNIST"
      ]
    },
    {
      "cell_type": "markdown",
      "metadata": {
        "id": "lc3QJa3NVx4B"
      },
      "source": [
        "## Get MNIST data from TensorFlow DataSets"
      ]
    },
    {
      "cell_type": "code",
      "metadata": {
        "id": "2lsga4TnVbOg",
        "outputId": "9c59ad6e-2ba6-497e-88f7-2089f36eb0e0",
        "colab": {
          "base_uri": "https://localhost:8080/",
          "height": 141
        }
      },
      "source": [
        "from matplotlib import pyplot as plt\n",
        "\n",
        "import tensorflow_datasets as tfds\n",
        "\n",
        "\n",
        "def load_mnist(split: tfds.Split, batch_size: int, \n",
        "               one_hot_label: bool, drop_remainder=False):\n",
        "  \"\"\"Loads either training or test MNIST data. \n",
        "  Returns: \n",
        "    an iterator with pairs (images, labels). The images have shape \n",
        "    (B, 28, 28, 1) and the labels have shape (B, 10), where B is the batch_size.\n",
        "  \"\"\"  \n",
        "  # TODO: drop the one_hot_label parameter, so that the shapes are indeed as\n",
        "  # documented. \n",
        "  ds = tfds.load('mnist', split=split)\n",
        "  def _prepare_example(x):\n",
        "    image = tf.cast(x['image'], tf.float32) / 255.0\n",
        "    label = tf.cast(x['label'], tf.int32)\n",
        "    if one_hot_label:\n",
        "      label = tf.one_hot(x['label'], 10)\n",
        "    return (image, label)\n",
        "  ds = ds.map(_prepare_example)\n",
        "  ds = ds.cache().shuffle(1000).batch(batch_size, drop_remainder=drop_remainder)\n",
        "  return ds\n",
        "\n",
        "# For fun, let's use different batch sizes for training and for evaluation. \n",
        "train_batch_size = 128\n",
        "eval_batch_size = 16\n",
        "\n",
        "train_ds = load_mnist(tfds.Split.TRAIN, one_hot_label=True,\n",
        "                      batch_size=train_batch_size)\n",
        "test_ds = load_mnist(tfds.Split.TEST, one_hot_label=True,\n",
        "                      batch_size=eval_batch_size)\n",
        "\n",
        "\n",
        "def plot_images(ds, nr_rows: int, nr_cols: int, is_predicted: bool = True):\n",
        "  \"\"\"Plots a grid of images with their predictions\"\"\"\n",
        "  count = nr_rows * nr_cols\n",
        "  fig = plt.figure(figsize=(8., 4.))\n",
        "  for batch in tfds.as_numpy(train_ds.take(1)):\n",
        "    images, labels = batch\n",
        "    for i, image in enumerate(images[:count]):\n",
        "      one = fig.add_subplot(nr_rows, nr_cols, i+1)\n",
        "      one.set_title(f\"{'pred' if is_predicted else 'label'}={np.argmax(labels[i])}\")\n",
        "      plt.imshow((np.reshape(image, (28, 28)) * 255).astype(np.uint8),\n",
        "                interpolation='nearest')\n",
        "  plt.show()\n",
        "\n",
        "plot_images(train_ds, 1, 5, is_predicted=False)\n",
        "\n",
        "# Define common parameters for both the JAX and the Flax models.\n",
        "input_shape = (28, 28, 1)  # Excluding batch_size\n",
        "layer_sizes = [784, 512, 512, 10]  # 10 is the number of classes\n",
        "param_scale = 0.1\n",
        "step_size = 0.001\n",
        "num_epochs = 3"
      ],
      "execution_count": 6,
      "outputs": [
        {
          "output_type": "display_data",
          "data": {
            "image/png": "[encoded data removed]",
            "text/plain": [
              "<Figure size 576x288 with 5 Axes>"
            ]
          },
          "metadata": {
            "tags": [],
            "needs_background": "light"
          }
        }
      ]
    },
    {
      "cell_type": "markdown",
      "metadata": {
        "id": "BjB03X9pzblu"
      },
      "source": [
        "## MNIST in pure JAX\n",
        "\n",
        "This is an example that uses just JAX, without any high-level\n",
        "libraries for readers who prefer fewer moving parts, at the expense\n",
        "of code size. See [below](#scrollTo=ALKaq_cL8fTj) a shorter example\n",
        "using Flax.\n",
        "\n",
        "We define MNIST in two parts, the feature extractor and the classifier.\n",
        "We plan to share the feature extractor as a SavedModel and allow \n",
        "reusing it in Keras with a different classifier (see \n",
        "[below](#scrollTo=Fhm2kxL_gIF5)). "
      ]
    },
    {
      "cell_type": "code",
      "metadata": {
        "id": "xFKZD6omWHwk",
        "outputId": "30ff51c4-d3e0-4fd2-abe4-2744cab9ec90",
        "colab": {
          "base_uri": "https://localhost:8080/"
        }
      },
      "source": [
        "class PureJaxMNIST:\n",
        "  \"\"\"Encapsulates the pure JAX MNIST model and training.\"\"\"\n",
        "\n",
        "  @staticmethod\n",
        "  def feature_extractor(extractor_params: Sequence[Tuple[Any, Any]], \n",
        "                        inputs):\n",
        "    # The feature extraction parts of MNIST, without the classifier layer.                          \n",
        "    # Args:\n",
        "    #   extractor_params: for each layer, the pair of weights and biases\n",
        "    #   inputs: the batch of images (B, 28, 28, 1)\n",
        "    # Returns:\n",
        "    #   features: of shape (B, 512) \n",
        "    x = inputs.reshape((inputs.shape[0], -1))  # flatten to f32[B, 784]\n",
        "    for w, b in extractor_params:\n",
        "      x = jnp.dot(x, w) + b\n",
        "      x = jnp.tanh(x)\n",
        "    return x\n",
        "\n",
        "  @staticmethod\n",
        "  def classifier(classifier_params: Tuple[Any, Any], features):\n",
        "    # Args:\n",
        "    #   classifier_params: the pair of weights and biases for the classifier\n",
        "    #   features: the extracted features (B, 512)\n",
        "    # Returns: \n",
        "    #   the predictions (B, 10)\n",
        "    w, b = classifier_params\n",
        "    logits = jnp.dot(features, w) + b\n",
        "    return logits - jax.scipy.special.logsumexp(logits, axis=1, keepdims=True)\n",
        "\n",
        "  @staticmethod\n",
        "  def predict(params: Sequence[Tuple[Any, Any]], inputs):\n",
        "    # Args:\n",
        "    #   params: a list with the extractor_params and the classifier_params (at\n",
        "    #     the tail)\n",
        "    #   inputs: the batch of images (B, 28, 28, 1)    \n",
        "    # Returns: \n",
        "    #   the predictions (B, 10)\n",
        "    features = PureJaxMNIST.feature_extractor(params[:-1], inputs)\n",
        "    predictions = PureJaxMNIST.classifier(params[-1], features)\n",
        "    return predictions\n",
        "\n",
        "  @staticmethod\n",
        "  def loss(params, inputs, labels):\n",
        "    predictions = PureJaxMNIST.predict(params, inputs)\n",
        "    return -jnp.mean(jnp.sum(predictions * labels, axis=1))\n",
        "\n",
        "  @staticmethod\n",
        "  def accuracy(predict: Callable, params, dataset):\n",
        "    @jax.jit\n",
        "    def _per_batch(inputs, labels):\n",
        "      target_class = jnp.argmax(labels, axis=1)\n",
        "      predicted_class = jnp.argmax(predict(params, inputs), axis=1)\n",
        "      return jnp.mean(predicted_class == target_class)\n",
        "    batched = [_per_batch(inputs, labels) for inputs, labels in tfds.as_numpy(dataset)]\n",
        "    return jnp.mean(jnp.stack(batched))\n",
        "\n",
        "  @staticmethod\n",
        "  def update(params, inputs, labels):\n",
        "    grads = jax.grad(PureJaxMNIST.loss)(params, inputs, labels)\n",
        "    return [(w - step_size * dw, b - step_size * db)\n",
        "            for (w, b), (dw, db) in zip(params, grads)]\n",
        "\n",
        "  @staticmethod\n",
        "  def train():\n",
        "    \"\"\"Trains a pure JAX MNIST predictor.\n",
        "\n",
        "    Returns:\n",
        "      a tuple with four elements:\n",
        "        - a predictor function with signature \"(Params, ImagesBatch) -> Predictions\"\n",
        "        - the parameters \"Params\" for the predictor function\n",
        "        - a feature extractor function with signature \n",
        "          \"(ExtractorParams, ImagesBatch) -> Features\"\n",
        "        - the parameters \"ExtractorParams\" for the feature extractor function \n",
        "    \"\"\"  \n",
        "    rng = jax.random.PRNGKey(0)\n",
        "    params = [\n",
        "      (param_scale * jax.random.normal(rng, (m, n)), \n",
        "      param_scale * jax.random.normal(rng, (n,)))\n",
        "      for m, n, in zip(layer_sizes[:-1], layer_sizes[1:])]\n",
        "\n",
        "    for epoch in range(num_epochs):\n",
        "      start_time = time.time()\n",
        "      for inputs, labels in tfds.as_numpy(train_ds):\n",
        "        params = jax.jit(PureJaxMNIST.update)(params, inputs, labels)\n",
        "      epoch_time = time.time() - start_time\n",
        "      train_acc = PureJaxMNIST.accuracy(PureJaxMNIST.predict, params, train_ds) \n",
        "      test_acc = PureJaxMNIST.accuracy(PureJaxMNIST.predict, params, test_ds)\n",
        "      print(\"Epoch {} in {:0.2f} sec\".format(epoch, epoch_time))\n",
        "      print(\"Training set accuracy {}\".format(train_acc))\n",
        "      print(\"Test set accuracy {}\".format(test_acc))\n",
        "\n",
        "    return (PureJaxMNIST.predict, params, \n",
        "            PureJaxMNIST.feature_extractor, params[:-1])\n",
        "\n",
        "(pure_predict, pure_params, \n",
        " pure_feature_extractor, pure_extractor_params) = PureJaxMNIST.train()"
      ],
      "execution_count": 7,
      "outputs": [
        {
          "output_type": "stream",
          "text": [
            "Epoch 0 in 14.97 sec\n",
            "Training set accuracy 0.6805370450019836\n",
            "Test set accuracy 0.6873000264167786\n",
            "Epoch 1 in 4.83 sec\n",
            "Training set accuracy 0.7816997766494751\n",
            "Test set accuracy 0.7893000245094299\n",
            "Epoch 2 in 4.82 sec\n",
            "Training set accuracy 0.821706235408783\n",
            "Test set accuracy 0.8306999802589417\n"
          ],
          "name": "stdout"
        }
      ]
    },
    {
      "cell_type": "code",
      "metadata": {
        "id": "_eiNQ-Ee5WCq",
        "outputId": "ea354d50-1764-4a28-efca-28a0087a49d9",
        "colab": {
          "base_uri": "https://localhost:8080/",
          "height": 141
        }
      },
      "source": [
        "# Plot a few predictions for the first batch of the test set\n",
        "plot_images([(images, pure_predict(pure_params, images))\n",
        "              for images, _ in tfds.as_numpy(test_ds.take(1))], \n",
        "            1, 5, is_predicted=True)"
      ],
      "execution_count": 8,
      "outputs": [
        {
          "output_type": "display_data",
          "data": {
            "image/png": "[encoded data removed]",
            "text/plain": [
              "<Figure size 576x288 with 5 Axes>"
            ]
          },
          "metadata": {
            "tags": [],
            "needs_background": "light"
          }
        }
      ]
    },
    {
      "cell_type": "markdown",
      "metadata": {
        "id": "ALKaq_cL8fTj"
      },
      "source": [
        "## MNIST in Flax\n",
        "\n",
        "This follows the structure of the \n",
        "[MNIST Flax (Linen) example](https://github.com/google/flax/blob/master/linen_examples/mnist/mnist_lib.py)."
      ]
    },
    {
      "cell_type": "code",
      "metadata": {
        "id": "zX_doiSgNzOS",
        "outputId": "9675a0b1-2c2f-4dd7-9658-0f18f491d7ab",
        "colab": {
          "base_uri": "https://localhost:8080/"
        }
      },
      "source": [
        "!pip install flax\n",
        "import flax\n",
        "from flax import linen as nn\n",
        "\n",
        "class FlaxMNIST:\n",
        "  \"\"\"Encapsulates the Flax MNIST model and training.\"\"\"\n",
        "\n",
        "  class FeatureExtractorModule(nn.Module):\n",
        "    \"\"\"A simple CNN model for MNIST, with only the feature extraction parts.\"\"\"\n",
        "\n",
        "    @nn.compact\n",
        "    def __call__(self, x):\n",
        "      x = nn.Conv(features=32, kernel_size=(3, 3))(x)\n",
        "      x = nn.relu(x)\n",
        "      x = nn.avg_pool(x, window_shape=(2, 2), strides=(2, 2))\n",
        "      x = nn.Conv(features=64, kernel_size=(3, 3))(x)\n",
        "      x = nn.relu(x)\n",
        "      x = nn.avg_pool(x, window_shape=(2, 2), strides=(2, 2))\n",
        "      x = x.reshape((x.shape[0], -1))  # flatten\n",
        "      x = nn.Dense(features=256)(x)\n",
        "      x = nn.relu(x)\n",
        "      return x\n",
        "\n",
        "  @staticmethod\n",
        "  def feature_extractor(extractor_params, inputs):\n",
        "    \"\"\"A functional interface to the trained FeatureExtractorModule.\"\"\"\n",
        "    return FlaxMNIST.FeatureExtractorModule().apply({'params': extractor_params},\n",
        "                                                    inputs)\n",
        "\n",
        "  class Module(nn.Module):\n",
        "    \"\"\"The whole model.\"\"\"\n",
        "\n",
        "    def setup(self):\n",
        "      self.feature_extractor = FlaxMNIST.FeatureExtractorModule()\n",
        "\n",
        "    @nn.compact\n",
        "    def __call__(self, x):\n",
        "      x = self.feature_extractor(x)\n",
        "      x = nn.Dense(features=10)(x)\n",
        "      x = nn.log_softmax(x)\n",
        "      return x\n",
        "\n",
        "  @staticmethod\n",
        "  def predict(params, inputs):\n",
        "    \"\"\"A functional interface to the trained Module.\"\"\"\n",
        "    return FlaxMNIST.Module().apply({'params': params}, inputs)\n",
        "\n",
        "  @staticmethod\n",
        "  def loss(params, inputs, labels):  # Same as the pure JAX example\n",
        "    predictions = FlaxMNIST.predict(params, inputs)\n",
        "    return -jnp.mean(jnp.sum(predictions * labels, axis=1))\n",
        "\n",
        "  @staticmethod\n",
        "  def update(optimizer, inputs, labels):\n",
        "    grad = jax.grad(FlaxMNIST.loss)(optimizer.target, inputs, labels)\n",
        "    optimizer = optimizer.apply_gradient(grad)\n",
        "    return optimizer\n",
        "\n",
        "  @staticmethod\n",
        "  def train():\n",
        "    \"\"\"Trains a pure JAX MNIST predictor.\n",
        "\n",
        "    Returns:\n",
        "      a tuple with four elements:\n",
        "        - a predictor function with signature \"(Params, ImagesBatch) -> Predictions\"\n",
        "        - the parameters \"Params\" for the predictor function\n",
        "        - a feature extractor function with signature\n",
        "          \"(ExtractorParams, ImagesBatch) -> Features\"\n",
        "        - the parameters \"ExtractorParams\" for the feature extractor function\n",
        "    \"\"\"\n",
        "    rng = jax.random.PRNGKey(0)\n",
        "    momentum_mass = 0.9\n",
        "\n",
        "    init_shape = jnp.ones((1,) + input_shape, jnp.float32)\n",
        "    initial_params = FlaxMNIST.Module().init(rng, init_shape)[\"params\"]\n",
        "    optimizer_def = flax.optim.Momentum(learning_rate=step_size, beta=momentum_mass)\n",
        "    optimizer = optimizer_def.create(initial_params)\n",
        "\n",
        "    for epoch in range(num_epochs):\n",
        "      start_time = time.time()\n",
        "      for inputs, labels in tfds.as_numpy(train_ds):\n",
        "        optimizer = jax.jit(FlaxMNIST.update)(optimizer, inputs, labels)\n",
        "      epoch_time = time.time() - start_time\n",
        "      # Same accuracy function as for the pure JAX example\n",
        "      train_acc = PureJaxMNIST.accuracy(FlaxMNIST.predict, optimizer.target, train_ds)\n",
        "      test_acc = PureJaxMNIST.accuracy(FlaxMNIST.predict, optimizer.target, test_ds)\n",
        "      print(\"Epoch {} in {:0.2f} sec\".format(epoch, epoch_time))\n",
        "      print(\"Training set accuracy {}\".format(train_acc))\n",
        "      print(\"Test set accuracy {}\".format(test_acc))\n",
        "\n",
        "    return (FlaxMNIST.predict, optimizer.target,\n",
        "            FlaxMNIST.feature_extractor, optimizer.target[\"feature_extractor\"])\n",
        "\n",
        "(flax_predict, flax_params, \n",
        " flax_feature_extractor, flax_extractor_params) = FlaxMNIST.train()\n",
        "\n"
      ],
      "execution_count": 9,
      "outputs": [
        {
          "output_type": "stream",
          "text": [
            "Requirement already satisfied: flax in /usr/local/lib/python3.6/dist-packages (0.2.2)\n",
            "Requirement already satisfied: dataclasses; python_version < \"3.7\" in /usr/local/lib/python3.6/dist-packages (from flax) (0.7)\n",
            "Requirement already satisfied: jax>=0.1.59 in /usr/local/lib/python3.6/dist-packages (from flax) (0.2.0)\n",
            "Requirement already satisfied: msgpack in /usr/local/lib/python3.6/dist-packages (from flax) (1.0.0)\n",
            "Requirement already satisfied: matplotlib in /usr/local/lib/python3.6/dist-packages (from flax) (3.2.2)\n",
            "Requirement already satisfied: numpy>=1.12 in /usr/local/lib/python3.6/dist-packages (from flax) (1.18.5)\n",
            "Requirement already satisfied: absl-py in /usr/local/lib/python3.6/dist-packages (from jax>=0.1.59->flax) (0.10.0)\n",
            "Requirement already satisfied: opt-einsum in /usr/local/lib/python3.6/dist-packages (from jax>=0.1.59->flax) (3.3.0)\n",
            "Requirement already satisfied: kiwisolver>=1.0.1 in /usr/local/lib/python3.6/dist-packages (from matplotlib->flax) (1.2.0)\n",
            "Requirement already satisfied: python-dateutil>=2.1 in /usr/local/lib/python3.6/dist-packages (from matplotlib->flax) (2.8.1)\n",
            "Requirement already satisfied: pyparsing!=2.0.4,!=2.1.2,!=2.1.6,>=2.0.1 in /usr/local/lib/python3.6/dist-packages (from matplotlib->flax) (2.4.7)\n",
            "Requirement already satisfied: cycler>=0.10 in /usr/local/lib/python3.6/dist-packages (from matplotlib->flax) (0.10.0)\n",
            "Requirement already satisfied: six in /usr/local/lib/python3.6/dist-packages (from absl-py->jax>=0.1.59->flax) (1.15.0)\n",
            "Epoch 0 in 60.06 sec\n",
            "Training set accuracy 0.8756218552589417\n",
            "Test set accuracy 0.8838000297546387\n",
            "Epoch 1 in 48.70 sec\n",
            "Training set accuracy 0.9059334993362427\n",
            "Test set accuracy 0.9118000268936157\n",
            "Epoch 2 in 52.55 sec\n",
            "Training set accuracy 0.9205090403556824\n",
            "Test set accuracy 0.9236999750137329\n"
          ],
          "name": "stdout"
        }
      ]
    },
    {
      "cell_type": "code",
      "metadata": {
        "id": "4DKeNutf7zX_",
        "outputId": "05cec9ed-6169-4922-a435-fe594648dee1",
        "colab": {
          "base_uri": "https://localhost:8080/",
          "height": 141
        }
      },
      "source": [
        "# Plot predictions for the first batch of the test set\n",
        "plot_images([(images, flax_predict(flax_params, images))\n",
        "              for images, _ in tfds.as_numpy(test_ds.take(1))], \n",
        "            1, 5, is_predicted=True)"
      ],
      "execution_count": 10,
      "outputs": [
        {
          "output_type": "display_data",
          "data": {
            "image/png": "[encoded data removed]",
            "text/plain": [
              "<Figure size 576x288 with 5 Axes>"
            ]
          },
          "metadata": {
            "tags": [],
            "needs_background": "light"
          }
        }
      ]
    },
    {
      "cell_type": "markdown",
      "metadata": {
        "id": "Og3FPMFNXRd9"
      },
      "source": [
        "# Export to SavedModel\n",
        "\n",
        "Follow [reusable SavedModel guidelines](https://www.tensorflow.org/hub/reusable_saved_models). \n",
        "\n",
        "This wrapper class adapts between the Reusable SavedModel API\n",
        "and the style in which a JAX model is built. Going forward, \n",
        "there can probably be a generic adapter class for each modeling\n",
        "library (such as Flax).\n",
        "\n"
      ]
    },
    {
      "cell_type": "code",
      "metadata": {
        "id": "NkwTO-myXiXH"
      },
      "source": [
        "class ExportWrapper(tf.train.Checkpoint):\n",
        "\n",
        "  def __init__(self, fn: Callable, params, \n",
        "               input_shape: Sequence[int], \n",
        "               batch_sizes: Sequence[int]):\n",
        "    \"\"\"\n",
        "    Args:\n",
        "      fn: a function taking two arguments, the parameters and the batch of \n",
        "        images.\n",
        "      params: the parameters, as a list/tuple/dictionary of np.ndarray, to be \n",
        "        used as first argument for `fn`.\n",
        "     input_shape: the shape of the second argument of `fn` (except the batch size)\n",
        "     batch_sizes: a sequence of batch sizes for which to save the function.\n",
        "    \"\"\"\n",
        "    super().__init__()\n",
        "    # Convert fn from JAX to TF.\n",
        "    with_gradient = False  # Avoid b/123499169.\n",
        "    self._fn = jax2tf.convert(fn, with_gradient=with_gradient)\n",
        "    # Create tf.Variables for the parameters.\n",
        "    self._params = tf.nest.map_structure(\n",
        "        # If with_gradient=False, we mark the variables behind as non-trainable,\n",
        "        # or else the Keras model below fails for trying to access them\n",
        "        # (even with hub.KerasLayer(..., trainable=False), surprisingly).\n",
        "        lambda param: tf.Variable(param, trainable=with_gradient),\n",
        "        params)\n",
        "    self._signatures = {}\n",
        "\n",
        "    # Implement the interface from https://www.tensorflow.org/hub/reusable_saved_models\n",
        "    self.variables = tf.nest.flatten(self._params)\n",
        "    self.trainable_variables = [v for v in self.variables if v.trainable]\n",
        "    for training in (True, False):\n",
        "      # TODO: batch_size should be None, and nothing else.\n",
        "      for batch_size in batch_sizes:\n",
        "        input_spec = tf.TensorSpec([batch_size] + list(input_shape), tf.float32)\n",
        "        cf = self.__call__.get_concrete_function(input_spec, training=training)\n",
        "    # If you intend to prescribe regularization terms for users of the model,\n",
        "    # add them as @tf.functions with no inputs to this list. Else drop this.\n",
        "    self.regularization_losses = []\n",
        "\n",
        "  @tf.function(autograph=False)\n",
        "  def __call__(self, inputs, training=False):\n",
        "    del training  # Unused for now.\n",
        "    # Future directions:\n",
        "    # - If _fn depends on mode (training or inference), pass on `training`.\n",
        "    # - If _fn depens on numeric hyperparameters (e.g., dropout rate),\n",
        "    #   add them as kwargs that have a Python constant as default but\n",
        "    #   get traced with tf.TensorSpec([], ...).\n",
        "    # - If _fn needs to execute update ops during training, e.g., to update\n",
        "    #   batch norm's aggregate stats, make them happen as control dependencies\n",
        "    #   on outputs if training is true.\n",
        "    outputs = self._fn(self._params, inputs)\n",
        "    return outputs\n",
        "\n",
        "def save_model(fn: Callable, params, \n",
        "               model_dir: str, *, batch_sizes: Optional[Sequence[int]] = None):\n",
        "  \"\"\"Saves the SavedModel for a function\"\"\"\n",
        "  batch_sizes = batch_sizes or [1, eval_batch_size, train_batch_size]\n",
        "  wrapper = ExportWrapper(\n",
        "    fn, params, input_shape,\n",
        "    batch_sizes=batch_sizes)\n",
        "  print(f\"Saving the model to {model_dir}\")\n",
        "  tf.saved_model.save(wrapper, model_dir)\n"
      ],
      "execution_count": 11,
      "outputs": []
    },
    {
      "cell_type": "code",
      "metadata": {
        "id": "3TJTP0aHe2Qv",
        "outputId": "e55a4c3e-f2fa-4824-9957-a2620f3892da",
        "colab": {
          "base_uri": "https://localhost:8080/"
        }
      },
      "source": [
        "# Export the full trained model (pure JAX).\n",
        "pure_predict_model_dir = \"/tmp/jax2tf/pure_mnist_full_model\"\n",
        "save_model(pure_predict, pure_params, pure_predict_model_dir)"
      ],
      "execution_count": 12,
      "outputs": [
        {
          "output_type": "stream",
          "text": [
            "Saving the model to /tmp/jax2tf/pure_mnist_full_model\n",
            "INFO:tensorflow:Assets written to: /tmp/jax2tf/pure_mnist_full_model/assets\n"
          ],
          "name": "stdout"
        },
        {
          "output_type": "stream",
          "text": [
            "INFO:tensorflow:Assets written to: /tmp/jax2tf/pure_mnist_full_model/assets\n"
          ],
          "name": "stderr"
        }
      ]
    },
    {
      "cell_type": "code",
      "metadata": {
        "id": "TS_DBukde4h9",
        "outputId": "98c0a62e-d7e9-4e81-8dcd-e1e1f9ba92b1",
        "colab": {
          "base_uri": "https://localhost:8080/"
        }
      },
      "source": [
        "# Export the feature extractor only (pure JAX).\n",
        "pure_feature_extractor_model_dir = \"/tmp/jax2tf/pure_mnist_features\"\n",
        "save_model(pure_feature_extractor, pure_extractor_params, pure_feature_extractor_model_dir)"
      ],
      "execution_count": 13,
      "outputs": [
        {
          "output_type": "stream",
          "text": [
            "Saving the model to /tmp/jax2tf/pure_mnist_features\n",
            "INFO:tensorflow:Assets written to: /tmp/jax2tf/pure_mnist_features/assets\n"
          ],
          "name": "stdout"
        },
        {
          "output_type": "stream",
          "text": [
            "INFO:tensorflow:Assets written to: /tmp/jax2tf/pure_mnist_features/assets\n"
          ],
          "name": "stderr"
        }
      ]
    },
    {
      "cell_type": "code",
      "metadata": {
        "id": "ynp2IIO7dKiT",
        "outputId": "5e2747cf-879e-480a-d481-cf6688d4ff65",
        "colab": {
          "base_uri": "https://localhost:8080/"
        }
      },
      "source": [
        "# Export the full trained model (Flax)\n",
        "flax_predict_model_dir = \"/tmp/jax2tf/flax_mnist_full_model\"\n",
        "save_model(flax_predict, flax_params, flax_predict_model_dir)"
      ],
      "execution_count": 14,
      "outputs": [
        {
          "output_type": "stream",
          "text": [
            "WARNING:tensorflow:Mapping types may not work well with tf.nest. Prefer using MutableMapping for flax.core.frozen_dict.FrozenDict\n"
          ],
          "name": "stdout"
        },
        {
          "output_type": "stream",
          "text": [
            "WARNING:tensorflow:Mapping types may not work well with tf.nest. Prefer using MutableMapping for flax.core.frozen_dict.FrozenDict\n"
          ],
          "name": "stderr"
        },
        {
          "output_type": "stream",
          "text": [
            "Saving the model to /tmp/jax2tf/flax_mnist_full_model\n",
            "INFO:tensorflow:Assets written to: /tmp/jax2tf/flax_mnist_full_model/assets\n"
          ],
          "name": "stdout"
        },
        {
          "output_type": "stream",
          "text": [
            "INFO:tensorflow:Assets written to: /tmp/jax2tf/flax_mnist_full_model/assets\n"
          ],
          "name": "stderr"
        }
      ]
    },
    {
      "cell_type": "code",
      "metadata": {
        "id": "2CJOr24qx8lN",
        "outputId": "eb14f388-c585-4abd-e7ae-5981654b08b2",
        "colab": {
          "base_uri": "https://localhost:8080/"
        }
      },
      "source": [
        "# Export the feature extractor only (Flax)\n",
        "flax_feature_extractor_model_dir = \"/tmp/jax2tf/flax_mnist_features\"\n",
        "save_model(flax_feature_extractor, flax_extractor_params, flax_feature_extractor_model_dir)"
      ],
      "execution_count": 15,
      "outputs": [
        {
          "output_type": "stream",
          "text": [
            "Saving the model to /tmp/jax2tf/flax_mnist_features\n",
            "INFO:tensorflow:Assets written to: /tmp/jax2tf/flax_mnist_features/assets\n"
          ],
          "name": "stdout"
        },
        {
          "output_type": "stream",
          "text": [
            "INFO:tensorflow:Assets written to: /tmp/jax2tf/flax_mnist_features/assets\n"
          ],
          "name": "stderr"
        }
      ]
    },
    {
      "cell_type": "markdown",
      "metadata": {
        "id": "zZNsXk-0HYWi"
      },
      "source": [
        "Congrats! \n",
        "Reusable SavedModels like these can be shared with TensorFlow users on \n",
        "the filesystem or by [ publishing on TF Hub ]( https://www.tensorflow.org/hub/exporting_tf2_saved_model )\n",
        "."
      ]
    },
    {
      "cell_type": "markdown",
      "metadata": {
        "id": "s0kuO4DJa3n7"
      },
      "source": [
        "## Import and run the SavedModels\n"
      ]
    },
    {
      "cell_type": "markdown",
      "metadata": {
        "id": "V47pJNkQgAHx"
      },
      "source": [
        "Those SavedModels can now be imported into TensorFlow.\n",
        "\n",
        "TensorFlow sometimes requires an explicit `with tf.device(tf_accelerator): ...` context to use the same accelerator as JAX, esp. for TPUs. We pick the best we can find in the colab runtime."
      ]
    },
    {
      "cell_type": "code",
      "metadata": {
        "id": "fNPOLJGwfzW8",
        "outputId": "61bcba8b-3720-4d9a-8412-0cc933517526",
        "colab": {
          "base_uri": "https://localhost:8080/"
        }
      },
      "source": [
        "tf_accelerator = (tf.config.list_logical_devices(\"TPU\") +\n",
        "                  tf.config.list_logical_devices(\"GPU\") + \n",
        "                  tf.config.list_logical_devices(\"CPU\"))[0]\n",
        "print(f\"Using tf_accelerator = {tf_accelerator}\")"
      ],
      "execution_count": 16,
      "outputs": [
        {
          "output_type": "stream",
          "text": [
            "Using tf_accelerator = LogicalDevice(name='/device:CPU:0', device_type='CPU')\n"
          ],
          "name": "stdout"
        }
      ]
    },
    {
      "cell_type": "markdown",
      "metadata": {
        "id": "lFCJF0xaf7vc"
      },
      "source": [
        "When comparing models between JAX and TF, we observed varying numerical tolerances depending on device type."
      ]
    },
    {
      "cell_type": "code",
      "metadata": {
        "id": "LUw1R-whf_Md",
        "outputId": "3042cf61-dcf4-4afc-a564-1246328fd537",
        "colab": {
          "base_uri": "https://localhost:8080/"
        }
      },
      "source": [
        "if tf_accelerator.device_type == \"TPU\":\n",
        "  tolerances = dict(atol=0, rtol=0)  # Wow! Worked Sep '20. May need loosening.\n",
        "elif tf_accelerator.device_type == \"GPU\":\n",
        "  tolerances = dict(atol=1e-6, rtol=1e-4)\n",
        "elif tf_accelerator.device_type == \"CPU\":\n",
        "  tolerances = dict(atol=1e-5, rtol=1e-5)\n",
        "print(\"Using\", tolerances)"
      ],
      "execution_count": 17,
      "outputs": [
        {
          "output_type": "stream",
          "text": [
            "Using {'atol': 1e-05, 'rtol': 1e-05}\n"
          ],
          "name": "stdout"
        }
      ]
    },
    {
      "cell_type": "markdown",
      "metadata": {
        "id": "IuXIwY6ZgRA2"
      },
      "source": [
        "The following code block shows how to load the full JAX model in low-level TF,\n",
        "and tests that it behaves the same as in JAX.\n",
        "\n",
        "NOTE: You can replace tf.saved_model.load() by hub.load()\n",
        "to make it work on TF Hub handles in addition to ordinary filesystem paths."
      ]
    },
    {
      "cell_type": "code",
      "metadata": {
        "id": "a_FH5qLEZZs-",
        "outputId": "93d7b675-833f-4032-e2ba-6b80f68a344b",
        "colab": {
          "base_uri": "https://localhost:8080/",
          "height": 141
        }
      },
      "source": [
        "with tf.device(tf_accelerator):\n",
        "  pure_restored_full_model = tf.saved_model.load(pure_predict_model_dir)\n",
        "  test_input = np.ones([eval_batch_size] + list(input_shape), dtype=np.float32)\n",
        "  np.testing.assert_allclose(pure_restored_full_model(tf.convert_to_tensor(test_input)),\n",
        "                             pure_predict(pure_params, test_input),\n",
        "                             **tolerances)\n",
        "  \n",
        "# Plot predictions for the first batch of the test set\n",
        "plot_images([(images, pure_restored_full_model(tf.convert_to_tensor(images)))\n",
        "              for images, _ in tfds.as_numpy(test_ds.take(1))], \n",
        "            1, 5, is_predicted=True)"
      ],
      "execution_count": 18,
      "outputs": [
        {
          "output_type": "display_data",
          "data": {
            "image/png": "[encoded data removed]",
            "text/plain": [
              "<Figure size 576x288 with 5 Axes>"
            ]
          },
          "metadata": {
            "tags": [],
            "needs_background": "light"
          }
        }
      ]
    },
    {
      "cell_type": "markdown",
      "metadata": {
        "id": "SsvAfWHH94uA"
      },
      "source": [
        "Now the same thing for the Flax model."
      ]
    },
    {
      "cell_type": "code",
      "metadata": {
        "id": "zxVi2xia97sO",
        "outputId": "088daa16-93fa-4ee0-d583-7cbab6975cc6",
        "colab": {
          "base_uri": "https://localhost:8080/",
          "height": 141
        }
      },
      "source": [
        "with tf.device(tf_accelerator):\n",
        "  flax_restored_full_model = tf.saved_model.load(flax_predict_model_dir)\n",
        "  test_input = np.ones([eval_batch_size] + list(input_shape), dtype=np.float32)\n",
        "  np.testing.assert_allclose(flax_restored_full_model(tf.convert_to_tensor(test_input)),\n",
        "                             flax_predict(flax_params, test_input),\n",
        "                             **tolerances)\n",
        "\n",
        "# Plot predictions for the first batch of the test set\n",
        "plot_images([(images, flax_restored_full_model(tf.convert_to_tensor(images)))\n",
        "              for images, _ in tfds.as_numpy(test_ds.take(1))], \n",
        "            1, 5, is_predicted=True)"
      ],
      "execution_count": 19,
      "outputs": [
        {
          "output_type": "display_data",
          "data": {
            "image/png": "[encoded data removed]",
            "text/plain": [
              "<Figure size 576x288 with 5 Axes>"
            ]
          },
          "metadata": {
            "tags": [],
            "needs_background": "light"
          }
        }
      ]
    },
    {
      "cell_type": "markdown",
      "metadata": {
        "id": "Fhm2kxL_gIF5"
      },
      "source": [
        "# Reuse in Keras of the MNIST feature extractor \n",
        "\n",
        "The feature extractor model can be imported in TensorFlow \n",
        "to train a new classifier on top of it.\n",
        "\n",
        "For ease of training, we show this with the high-level Keras API, \n",
        "but it should also be possible in low-level TensorFlow (using the \n",
        "restored_features under a tf.GradientTape and doing gradient updates\n",
        "manually).\n",
        "\n",
        "With Keras, we use the `tf.distribute.OneDeviceStrategy`\n",
        "as the high-level analogue of the `tf.device(...)` placement seen above.\n",
        "It works on CPU, GPU and TPU.\n",
        "Actual high-performance training would use the appropriatey replicated\n",
        "[TF Distribution Strategy](https://www.tensorflow.org/guide/distributed_training)."
      ]
    },
    {
      "cell_type": "code",
      "metadata": {
        "id": "XVqQugf6iZKL"
      },
      "source": [
        "#@title Choose the model {form-width: \"25%\"}\n",
        "import tensorflow_hub as hub\n",
        "\n",
        "model_choice = \"Flax\"  #@param[\"Flax\", \"Pure JAX\"]\n",
        "if model_choice == \"Pure JAX\":\n",
        "  feature_extractor_model_dir = pure_feature_extractor_model_dir\n",
        "  feature_extractor = pure_feature_extractor\n",
        "  feature_extractor_params = pure_extractor_params\n",
        "else:\n",
        "  feature_extractor_model_dir = flax_feature_extractor_model_dir\n",
        "  feature_extractor = flax_feature_extractor\n",
        "  feature_extractor_params = flax_extractor_params\n",
        "\n",
        "strategy = tf.distribute.OneDeviceStrategy(tf_accelerator)\n",
        "with strategy.scope():\n",
        "  images = tf.keras.layers.Input(input_shape, batch_size=128)\n",
        "  keras_feature_extractor = hub.KerasLayer(feature_extractor_model_dir, trainable=False)\n",
        "  features = keras_feature_extractor(images)\n",
        "  predictor = tf.keras.layers.Dense(10, activation='softmax')\n",
        "  predictions = predictor(features)\n",
        "  keras_model = tf.keras.Model(images, predictions)"
      ],
      "execution_count": 20,
      "outputs": []
    },
    {
      "cell_type": "markdown",
      "metadata": {
        "id": "9sQwotZMihRn"
      },
      "source": [
        "The imported feature_extractor behaves the same as the JAX original."
      ]
    },
    {
      "cell_type": "code",
      "metadata": {
        "id": "UL8yKvxiikWQ"
      },
      "source": [
        "with tf.device(tf_accelerator):\n",
        "  np.testing.assert_allclose(keras_feature_extractor(tf.convert_to_tensor(test_input)),\n",
        "                            feature_extractor(feature_extractor_params, test_input),\n",
        "                            **tolerances)"
      ],
      "execution_count": 21,
      "outputs": []
    },
    {
      "cell_type": "markdown",
      "metadata": {
        "id": "8ekdmlb2hPPL"
      },
      "source": [
        "Now train the new classifier on top."
      ]
    },
    {
      "cell_type": "code",
      "metadata": {
        "id": "xxphn5oShRL0",
        "outputId": "0cddc300-cb16-4ee4-fce1-69ea01e37cc0",
        "colab": {
          "base_uri": "https://localhost:8080/"
        }
      },
      "source": [
        "print(f\"Using feature extractor: {model_choice}\")\n",
        "keras_model.compile(loss=tf.keras.losses.categorical_crossentropy,\n",
        "                    optimizer=tf.keras.optimizers.SGD(learning_rate=0.01),\n",
        "                    metrics=['accuracy'])\n",
        "print(keras_model.summary())\n",
        "\n",
        "train_ds = load_mnist(tfds.Split.TRAIN, one_hot_label=True,\n",
        "                      batch_size=train_batch_size, drop_remainder=True)\n",
        "test_ds = load_mnist(tfds.Split.TEST, one_hot_label=True,\n",
        "                    batch_size=eval_batch_size, drop_remainder=True)\n",
        "keras_model.fit(train_ds, epochs=3,\n",
        "                validation_data=test_ds)"
      ],
      "execution_count": 22,
      "outputs": [
        {
          "output_type": "stream",
          "text": [
            "Using feature extractor: Flax\n",
            "Model: \"functional_1\"\n",
            "_________________________________________________________________\n",
            "Layer (type)                 Output Shape              Param #   \n",
            "=================================================================\n",
            "input_1 (InputLayer)         [(128, 28, 28, 1)]        0         \n",
            "_________________________________________________________________\n",
            "keras_layer (KerasLayer)     (128, 256)                821888    \n",
            "_________________________________________________________________\n",
            "dense (Dense)                (128, 10)                 2570      \n",
            "=================================================================\n",
            "Total params: 824,458\n",
            "Trainable params: 2,570\n",
            "Non-trainable params: 821,888\n",
            "_________________________________________________________________\n",
            "None\n",
            "Epoch 1/3\n",
            "    468/Unknown - 40s 85ms/step - loss: 0.6055 - accuracy: 0.8406WARNING:tensorflow:Model was constructed with shape (128, 28, 28, 1) for input Tensor(\"input_1:0\", shape=(128, 28, 28, 1), dtype=float32), but it was called on an input with incompatible shape (16, 28, 28, 1).\n"
          ],
          "name": "stdout"
        },
        {
          "output_type": "stream",
          "text": [
            "WARNING:tensorflow:Model was constructed with shape (128, 28, 28, 1) for input Tensor(\"input_1:0\", shape=(128, 28, 28, 1), dtype=float32), but it was called on an input with incompatible shape (16, 28, 28, 1).\n"
          ],
          "name": "stderr"
        },
        {
          "output_type": "stream",
          "text": [
            "468/468 [==============================] - 50s 106ms/step - loss: 0.6055 - accuracy: 0.8406 - val_loss: 0.3455 - val_accuracy: 0.9096\n",
            "Epoch 2/3\n",
            "468/468 [==============================] - 40s 86ms/step - loss: 0.3357 - accuracy: 0.9079 - val_loss: 0.2963 - val_accuracy: 0.9169\n",
            "Epoch 3/3\n",
            "468/468 [==============================] - 40s 86ms/step - loss: 0.3021 - accuracy: 0.9133 - val_loss: 0.2745 - val_accuracy: 0.9218\n"
          ],
          "name": "stdout"
        },
        {
          "output_type": "execute_result",
          "data": {
            "text/plain": [
              "<tensorflow.python.keras.callbacks.History at 0x7ff5605e0eb8>"
            ]
          },
          "metadata": {
            "tags": []
          },
          "execution_count": 22
        }
      ]
    },
    {
      "cell_type": "code",
      "metadata": {
        "id": "9QZh1-VAivos",
        "outputId": "54bc9507-2b6b-4ac5-ab40-f74ba4de1ebc",
        "colab": {
          "base_uri": "https://localhost:8080/",
          "height": 141
        }
      },
      "source": [
        "# Plot predictions for the first batch of the test set\n",
        "plot_images([(images, keras_model(tf.convert_to_tensor(images)))\n",
        "              for images, _ in tfds.as_numpy(test_ds.take(1))], \n",
        "            1, 5, is_predicted=True)"
      ],
      "execution_count": 23,
      "outputs": [
        {
          "output_type": "display_data",
          "data": {
            "image/png": "[encoded data removed]",
            "text/plain": [
              "<Figure size 576x288 with 5 Axes>"
            ]
          },
          "metadata": {
            "tags": [],
            "needs_background": "light"
          }
        }
      ]
    },
    {
      "cell_type": "markdown",
      "metadata": {
        "id": "xL8XXzD9hEEk"
      },
      "source": [
        "The imported feature_extractor behaves the same as the JAX original."
      ]
    },
    {
      "cell_type": "code",
      "metadata": {
        "id": "mYIeYj5ghHLz"
      },
      "source": [
        "with tf.device(tf_accelerator):\n",
        "  np.testing.assert_allclose(keras_feature_extractor(tf.convert_to_tensor(test_input)),\n",
        "                            feature_extractor(feature_extractor_params, test_input),\n",
        "                            **tolerances)"
      ],
      "execution_count": 24,
      "outputs": []
    }
  ]
}
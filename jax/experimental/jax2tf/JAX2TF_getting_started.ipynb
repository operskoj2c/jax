{
  "cells": [
    {
      "cell_type": "markdown",
      "metadata": {
        "colab_type": "text",
        "id": "mB5eSZXZIO9W"
      },
      "source": [
        "JAX-TensorFlow interoperation with JAX2TF\n",
        "============================================================\n",
        "\n",
        "Link: go/jax2tf-colab\n",
        "\n",
        "*Contact: necula@google.com, arnoegw@google.com (September 2020)*\n",
        "\n",
        "[![Run in Colab](https://colab.research.google.com/assets/colab-badge.svg)](https://colab.sandbox.google.com/github/google/jax/blob/master/jax/experimental/jax2tf/JAX2TF_getting_started.ipynb)\n",
        "\n",
        "This Colab demonstrates how to take a model written and trained in JAX\n",
        "(or Flax), and convert it with JAX2TF (go/jax2tf_doc) in order to use\n",
        "TensorFlow tools on it. We will demonstrate saving to SavedModel,\n",
        "reusing it in TF Hub, optionally with fine tuning. \n",
        "\n",
        "# Overview\n",
        "\n",
        "The section [\"Getting started with JAX2TF\"](#scrollTo=yUShtu6TOYkw)\n",
        "shows the basics of using JAX2TF on a very simple JAX function,\n",
        "converting it for execution with TF, and then saving it to SavedModel.\n",
        "Then we prepare for the MNIST example; we show how to use TF DataSets to\n",
        "load the MNIST training data, and preprocess it with tf.data ([\"Get\n",
        "MNIST data from TensorFlow DataSets\"](#scrollTo=lc3QJa3NVx4B)). Next we\n",
        "define and train an MNIST model using pure JAX (for the reader who\n",
        "prefers fewer abstractions) ([\"MNIST in pure JAX\"](#scrollTo=BjB03X9pzblu)). \n",
        "\n",
        "In [\"MNIST in Flax\"](#scrollTo=ALKaq_cL8fTj) we show how to define and\n",
        "train an MNIST model using Flax, obtaining again a predictor and a set\n",
        "of parameters. \n",
        "\n",
        "All the cells up to this point are independent of JAX2TF. In order to\n",
        "set the stage for JAX2TF conversion and saving to SavedModel, we\n",
        "express the trained model, whether in pure JAX or Flax, as a pair:\n",
        "\n",
        "  * **func**: a function with signature: \n",
        "```(params: Parameters, images: BatchedImages) -\u003e Predictions```\n",
        "  * **params**: of type ```Parameters```, the model parameters as a list\n",
        "  or tuple or dictionaries of arrays. We expose the parameters\n",
        "  like this because when we prepare the SavedModel, we will want to\n",
        "  process them with ```tf.nest.map_structure``` to create \n",
        "  ```tf.Variable```s.\n",
        "\n",
        "\n",
        "The more interesting part starts in \n",
        "[\"Export to SavedModel\"](#scrollTo=Og3FPMFNXRd9) where we show how to\n",
        "export the trained models to TF so that we can save it in a SavedModel.\n",
        "All you need here is a pair of a predictor and the parameters,\n",
        "independent of how you wrote those with JAX or Flax. \n",
        "\n",
        "In [\"Reuse with Keras of the MNIST feature extractor\"](#scrollTo=Fhm2kxL_gIF5)\n",
        "we show how to reuse only the feature extractor (all but the last layer)\n",
        "of the JAX-trained model, in a Keras model with its own\n",
        "classification layer, trained in Keras. \n",
        "\n",
        "**Credits**: the model code is inspired by (go/mnist-jax-colab)."
      ]
    },
    {
      "cell_type": "markdown",
      "metadata": {
        "colab_type": "text",
        "id": "yUShtu6TOYkw"
      },
      "source": [
        "# Getting started with JAX2TF\n",
        "\n",
        "Connect this Colab to a runtime that includes for JAX and TF, \n",
        "e.g., one of the Brain Frameworks or DeepMind runtimes. It has\n",
        "been tested with CPU/GPU/TPU runtimes (for the TPU runtime\n",
        "the `with tf.device` context managers are important.)"
      ]
    },
    {
      "cell_type": "code",
      "execution_count": 1,
      "metadata": {
        "colab": {
          "height": 34
        },
        "colab_type": "code",
        "executionInfo": {
          "elapsed": 9677,
          "status": "ok",
          "timestamp": 1600410885175,
          "user": {
            "displayName": "",
            "photoUrl": "",
            "userId": ""
          },
          "user_tz": -180
        },
        "id": "lVm5CbfzQuPe",
        "outputId": "6bed269e-45a5-4257-9be9-25f9bcc37301"
      },
      "outputs": [
        {
          "name": "stdout",
          "output_type": "stream",
          "text": [
            "hello_jax(x) = -0.44657254219055176\n"
          ]
        }
      ],
      "source": [
        "import time\n",
        "from typing import Any, Callable, Optional, Sequence, Tuple\n",
        "\n",
        "import jax\n",
        "import jax.numpy as jnp\n",
        "from jax.experimental import jax2tf\n",
        "\n",
        "import numpy as np\n",
        "import tensorflow as tf\n",
        "\n",
        "# A simple JAX function, using jit and grad and a couple of jax.numpy functions\n",
        "hello_jax = jax.jit(jax.grad(lambda x: jnp.log(jnp.cos(x))))\n",
        "x = 0.42\n",
        "print(f\"hello_jax(x) = {hello_jax(x)}\")"
      ]
    },
    {
      "cell_type": "markdown",
      "metadata": {
        "colab_type": "text",
        "id": "5WXPplmvUoCK"
      },
      "source": [
        "We apply the ```jax2tf.convert``` wrapper to ```demo_jax``` to obtain a\n",
        "function that executes **exactly as if it were written entirely with TF\n",
        "ops**. This is what will enable us to use the resulting function in\n",
        "a TF environment, e.g., to execute it eagerly, in graph mode, and even\n",
        "with the XLA compiler, and to save it in a SavedModel.  "
      ]
    },
    {
      "cell_type": "code",
      "execution_count": 2,
      "metadata": {
        "colab": {
          "height": 68
        },
        "colab_type": "code",
        "executionInfo": {
          "elapsed": 789,
          "status": "ok",
          "timestamp": 1600410885996,
          "user": {
            "displayName": "",
            "photoUrl": "",
            "userId": ""
          },
          "user_tz": -180
        },
        "id": "mp5XpYpTUnA9",
        "outputId": "43638c7c-06af-4bef-ab48-5fa82609df42"
      },
      "outputs": [
        {
          "name": "stdout",
          "output_type": "stream",
          "text": [
            "Execute with TF eager: hello_tf(x) = -0.44657254219055176\n",
            "Execute with TF graph: hello_tf_graph(x) = -0.44657254219055176\n",
            "Execute with TF graph: hello_tf_graph_compiled(x) = -0.44657254219055176\n"
          ]
        }
      ],
      "source": [
        "hello_tf = jax2tf.convert(hello_jax)\n",
        "print(f\"Execute with TF eager: hello_tf(x) = {hello_tf(x)}\")\n",
        "\n",
        "# It is best to turn of autograph to avoid some warnings. \n",
        "hello_tf_graph = tf.function(hello_tf, autograph=False)\n",
        "print(f\"Execute with TF graph: hello_tf_graph(x) = {hello_tf_graph(x)}\")\n",
        "\n",
        "hello_tf_graph_compiled = tf.function(hello_tf, autograph=False, experimental_compile=True)\n",
        "print(f\"Execute with TF graph: hello_tf_graph_compiled(x) = {hello_tf_graph_compiled(x)}\")"
      ]
    },
    {
      "cell_type": "markdown",
      "metadata": {
        "colab_type": "text",
        "id": "0wfxGnU2lhtm"
      },
      "source": [
        "You can inspect the TF graph and see that it contains a bunch of TF ops:"
      ]
    },
    {
      "cell_type": "code",
      "execution_count": 3,
      "metadata": {
        "colab": {
          "height": 1000
        },
        "colab_type": "code",
        "executionInfo": {
          "elapsed": 365,
          "status": "ok",
          "timestamp": 1600410886383,
          "user": {
            "displayName": "",
            "photoUrl": "",
            "userId": ""
          },
          "user_tz": -180
        },
        "id": "yigHDAThSykN",
        "outputId": "7e34c945-4fb8-478f-b0a8-f2193c470bac"
      },
      "outputs": [
        {
          "name": "stdout",
          "output_type": "stream",
          "text": [
            "node {\n",
            "  name: \"Const\"\n",
            "  op: \"Const\"\n",
            "  attr {\n",
            "    key: \"dtype\"\n",
            "    value {\n",
            "      type: DT_FLOAT\n",
            "    }\n",
            "  }\n",
            "  attr {\n",
            "    key: \"value\"\n",
            "    value {\n",
            "      tensor {\n",
            "        dtype: DT_FLOAT\n",
            "        tensor_shape {\n",
            "        }\n",
            "        float_val: 0.41999998688697815\n",
            "      }\n",
            "    }\n",
            "  }\n",
            "}\n",
            "node {\n",
            "  name: \"Const_1\"\n",
            "  op: \"Const\"\n",
            "  attr {\n",
            "    key: \"dtype\"\n",
            "    value {\n",
            "      type: DT_FLOAT\n",
            "    }\n",
            "  }\n",
            "  attr {\n",
            "    key: \"value\"\n",
            "    value {\n",
            "      tensor {\n",
            "        dtype: DT_FLOAT\n",
            "        tensor_shape {\n",
            "        }\n",
            "        float_val: 0.41999998688697815\n",
            "      }\n",
            "    }\n",
            "  }\n",
            "}\n",
            "node {\n",
            "  name: \"Cos\"\n",
            "  op: \"Cos\"\n",
            "  input: \"Const_1\"\n",
            "  attr {\n",
            "    key: \"T\"\n",
            "    value {\n",
            "      type: DT_FLOAT\n",
            "    }\n",
            "  }\n",
            "}\n",
            "node {\n",
            "  name: \"Sin\"\n",
            "  op: \"Sin\"\n",
            "  input: \"Const_1\"\n",
            "  attr {\n",
            "    key: \"T\"\n",
            "    value {\n",
            "      type: DT_FLOAT\n",
            "    }\n",
            "  }\n",
            "}\n",
            "node {\n",
            "  name: \"Log\"\n",
            "  op: \"Log\"\n",
            "  input: \"Cos\"\n",
            "  attr {\n",
            "    key: \"T\"\n",
            "    value {\n",
            "      type: DT_FLOAT\n",
            "    }\n",
            "  }\n",
            "}\n",
            "node {\n",
            "  name: \"Const_2\"\n",
            "  op: \"Const\"\n",
            "  attr {\n",
            "    key: \"dtype\"\n",
            "    value {\n",
            "      type: DT_FLOAT\n",
            "    }\n",
            "  }\n",
            "  attr {\n",
            "    key: \"value\"\n",
            "    value {\n",
            "      tensor {\n",
            "        dtype: DT_FLOAT\n",
            "        tensor_shape {\n",
            "        }\n",
            "        float_val: 1.0\n",
            "      }\n",
            "    }\n",
            "  }\n",
            "}\n",
            "node {\n",
            "  name: \"truediv\"\n",
            "  op: \"RealDiv\"\n",
            "  input: \"Const_2\"\n",
            "  input: \"Cos\"\n",
            "  attr {\n",
            "    key: \"T\"\n",
            "    value {\n",
            "      type: DT_FLOAT\n",
            "    }\n",
            "  }\n",
            "}\n",
            "node {\n",
            "  name: \"Neg\"\n",
            "  op: \"Neg\"\n",
            "  input: \"truediv\"\n",
            "  attr {\n",
            "    key: \"T\"\n",
            "    value {\n",
            "      type: DT_FLOAT\n",
            "    }\n",
            "  }\n",
            "}\n",
            "node {\n",
            "  name: \"Mul\"\n",
            "  op: \"Mul\"\n",
            "  input: \"Neg\"\n",
            "  input: \"Sin\"\n",
            "  attr {\n",
            "    key: \"T\"\n",
            "    value {\n",
            "      type: DT_FLOAT\n",
            "    }\n",
            "  }\n",
            "}\n",
            "node {\n",
            "  name: \"Identity\"\n",
            "  op: \"Identity\"\n",
            "  input: \"Mul\"\n",
            "  attr {\n",
            "    key: \"T\"\n",
            "    value {\n",
            "      type: DT_FLOAT\n",
            "    }\n",
            "  }\n",
            "}\n",
            "node {\n",
            "  name: \"IdentityN\"\n",
            "  op: \"IdentityN\"\n",
            "  input: \"Mul\"\n",
            "  input: \"Const_1\"\n",
            "  attr {\n",
            "    key: \"T\"\n",
            "    value {\n",
            "      list {\n",
            "        type: DT_FLOAT\n",
            "        type: DT_FLOAT\n",
            "      }\n",
            "    }\n",
            "  }\n",
            "  attr {\n",
            "    key: \"_gradient_op_type\"\n",
            "    value {\n",
            "      s: \"CustomGradient-15\"\n",
            "    }\n",
            "  }\n",
            "}\n",
            "node {\n",
            "  name: \"Identity_1\"\n",
            "  op: \"Identity\"\n",
            "  input: \"IdentityN\"\n",
            "  attr {\n",
            "    key: \"T\"\n",
            "    value {\n",
            "      type: DT_FLOAT\n",
            "    }\n",
            "  }\n",
            "}\n",
            "versions {\n",
            "  producer: 527\n",
            "}\n",
            "\n"
          ]
        }
      ],
      "source": [
        "graph_def = hello_tf_graph.get_concrete_function(x).graph.as_graph_def()\n",
        "#TODO: colab.tfgraph.display(graph=graph_def)\n",
        "print(graph_def)"
      ]
    },
    {
      "cell_type": "markdown",
      "metadata": {
        "colab_type": "text",
        "id": "NrIY8L4QWBab"
      },
      "source": [
        "We can even differentiate the converted function, and the result is\n",
        "guaranteed to be the same as if we differentiated it in JAX, and this\n",
        "even if we had JAX custom gradients defined. (This is achieved by using\n",
        "[tf.custom_gradient](https://www.tensorflow.org/api_docs/python/tf/custom_gradient) \n",
        "to call back into the JAX autodiff machinery and convert to TF \n",
        "the JAX gradient function.)"
      ]
    },
    {
      "cell_type": "code",
      "execution_count": 4,
      "metadata": {
        "colab": {
          "height": 51
        },
        "colab_type": "code",
        "executionInfo": {
          "elapsed": 429,
          "status": "ok",
          "timestamp": 1600410886831,
          "user": {
            "displayName": "",
            "photoUrl": "",
            "userId": ""
          },
          "user_tz": -180
        },
        "id": "rlJGB3ipWa-h",
        "outputId": "53af8cb1-8265-4eee-a274-7aa350dc2f2a"
      },
      "outputs": [
        {
          "name": "stdout",
          "output_type": "stream",
          "text": [
            "hello_jax_grad(x) = -1.1994270086288452\n",
            "hello_tf_grad(x) = -1.1994270086288452\n"
          ]
        }
      ],
      "source": [
        "print(f\"hello_jax_grad(x) = {jax.grad(hello_jax)(x)}\")\n",
        "\n",
        "x_v = tf.Variable(x)\n",
        "with tf.GradientTape() as tape:\n",
        "  tape.watch(x_v)\n",
        "  y = hello_tf(x_v)\n",
        "\n",
        "print(f\"hello_tf_grad(x) = {tape.gradient(y, x_v)}\")"
      ]
    },
    {
      "cell_type": "markdown",
      "metadata": {
        "colab_type": "text",
        "id": "_kX9X7fIT4Tg"
      },
      "source": [
        "Since ```hello_tf``` behaves like any TF function, we can put it\n",
        "into a SavedModel, using **standard** TF \n",
        "[tools](https://www.tensorflow.org/guide/saved_model):"
      ]
    },
    {
      "cell_type": "code",
      "execution_count": 5,
      "metadata": {
        "colab": {
          "height": 34
        },
        "colab_type": "code",
        "executionInfo": {
          "elapsed": 481,
          "status": "ok",
          "timestamp": 1600410887328,
          "user": {
            "displayName": "",
            "photoUrl": "",
            "userId": ""
          },
          "user_tz": -180
        },
        "id": "Q49PgCt1TNT1",
        "outputId": "d0086496-b3a3-4a75-ed97-c423056a3506"
      },
      "outputs": [
        {
          "name": "stdout",
          "output_type": "stream",
          "text": [
            "restored_model(x) = -0.44657254219055176\n"
          ]
        }
      ],
      "source": [
        "hello_model = tf.Module()\n",
        "hello_model.f = tf.function(hello_tf, \n",
        "                            autograph=False,  # Avoid warnings\n",
        "                            input_signature=[tf.TensorSpec([], tf.float32)])\n",
        "hello_dir = '/tmp/jax2tf/hello'\n",
        "tf.saved_model.save(hello_model, hello_dir)\n",
        "\n",
        "# Restoring (note: the restored model does *not* require JAX to run, just XLA).\n",
        "restored_model = tf.saved_model.load(hello_dir)\n",
        "print(f\"restored_model(x) = {restored_model.f(x)}\")"
      ]
    },
    {
      "cell_type": "markdown",
      "metadata": {
        "colab_type": "text",
        "id": "B3HTx5gXAg2B"
      },
      "source": [
        "# Define and train MNIST"
      ]
    },
    {
      "cell_type": "markdown",
      "metadata": {
        "colab_type": "text",
        "id": "lc3QJa3NVx4B"
      },
      "source": [
        "## Get MNIST data from TensorFlow DataSets"
      ]
    },
    {
      "cell_type": "code",
      "execution_count": 6,
      "metadata": {
        "colab": {
          "height": 141
        },
        "colab_type": "code",
        "executionInfo": {
          "elapsed": 7143,
          "status": "ok",
          "timestamp": 1600410894529,
          "user": {
            "displayName": "",
            "photoUrl": "",
            "userId": ""
          },
          "user_tz": -180
        },
        "id": "2lsga4TnVbOg",
        "outputId": "86bd316e-8578-445c-80e2-e57ad8686c90"
      },
      "outputs": [
        {
          "data": {
            "image/png": "[encoded data removed]",
            "text/plain": [
              "\u003cFigure size 800x400 with 5 Axes\u003e"
            ]
          },
          "metadata": {
            "tags": []
          },
          "output_type": "display_data"
        }
      ],
      "source": [
        "from matplotlib import pyplot as plt\n",
        "\n",
        "import tensorflow_datasets as tfds\n",
        "\n",
        "\n",
        "def load_mnist(split: tfds.Split, batch_size: int, \n",
        "               one_hot_label: bool, drop_remainder=False):\n",
        "  \"\"\"Loads either training or test MNIST data. \n",
        "  Returns: \n",
        "    an iterator with pairs (images, labels). The images have shape \n",
        "    (B, 28, 28, 1) and the labels have shape (B, 10), where B is the batch_size.\n",
        "  \"\"\"  \n",
        "  # TODO: drop the one_hot_label parameter, so that the shapes are indeed as\n",
        "  # documented. \n",
        "  ds = tfds.load('mnist', split=split)\n",
        "  def _prepare_example(x):\n",
        "    image = tf.cast(x['image'], tf.float32) / 255.0\n",
        "    label = tf.cast(x['label'], tf.int32)\n",
        "    if one_hot_label:\n",
        "      label = tf.one_hot(x['label'], 10)\n",
        "    return (image, label)\n",
        "  ds = ds.map(_prepare_example)\n",
        "  ds = ds.cache().shuffle(1000).batch(batch_size, drop_remainder=drop_remainder)\n",
        "  return ds\n",
        "\n",
        "# For fun, let's use different batch sizes for training and for evaluation. \n",
        "train_batch_size = 128\n",
        "eval_batch_size = 16\n",
        "\n",
        "train_ds = load_mnist(tfds.Split.TRAIN, one_hot_label=True,\n",
        "                      batch_size=train_batch_size)\n",
        "test_ds = load_mnist(tfds.Split.TEST, one_hot_label=True,\n",
        "                      batch_size=eval_batch_size)\n",
        "\n",
        "\n",
        "def plot_images(ds, nr_rows: int, nr_cols: int, is_predicted: bool = True):\n",
        "  \"\"\"Plots a grid of images with their predictions\"\"\"\n",
        "  count = nr_rows * nr_cols\n",
        "  fig = plt.figure(figsize=(8., 4.))\n",
        "  for batch in tfds.as_numpy(train_ds.take(1)):\n",
        "    images, labels = batch\n",
        "    for i, image in enumerate(images[:count]):\n",
        "      one = fig.add_subplot(nr_rows, nr_cols, i+1)\n",
        "      one.set_title(f\"{'pred' if is_predicted else 'label'}={np.argmax(labels[i])}\")\n",
        "      plt.imshow((np.reshape(image, (28, 28)) * 255).astype(np.uint8),\n",
        "                interpolation='nearest')\n",
        "  plt.show()\n",
        "\n",
        "plot_images(train_ds, 1, 5, is_predicted=False)\n",
        "\n",
        "# Define common parameters for both the JAX and the Flax models.\n",
        "input_shape = (28, 28, 1)  # Excluding batch_size\n",
        "layer_sizes = [784, 512, 512, 10]  # 10 is the number of classes\n",
        "param_scale = 0.1\n",
        "step_size = 0.001\n",
        "num_epochs = 3"
      ]
    },
    {
      "cell_type": "markdown",
      "metadata": {
        "colab_type": "text",
        "id": "BjB03X9pzblu"
      },
      "source": [
        "## MNIST in pure JAX\n",
        "\n",
        "This is an example that uses just JAX, without any high-level\n",
        "libraries for readers who prefer fewer moving parts, at the expense\n",
        "of code size. See [below](#scrollTo=ALKaq_cL8fTj) a shorter example\n",
        "using Flax.\n",
        "\n",
        "We define MNIST in two parts, the feature extractor and the classifier.\n",
        "We plan to share the feature extractor as a SavedModel and allow \n",
        "reusing it in Keras with a different classifier (see \n",
        "[below](#scrollTo=Fhm2kxL_gIF5)). "
      ]
    },
    {
      "cell_type": "code",
      "execution_count": 7,
      "metadata": {
        "colab": {
          "height": 170
        },
        "colab_type": "code",
        "executionInfo": {
          "elapsed": 7350,
          "status": "ok",
          "timestamp": 1600410901926,
          "user": {
            "displayName": "",
            "photoUrl": "",
            "userId": ""
          },
          "user_tz": -180
        },
        "id": "xFKZD6omWHwk",
        "outputId": "6d096816-07aa-4292-992f-d5445568ddc6"
      },
      "outputs": [
        {
          "name": "stdout",
          "output_type": "stream",
          "text": [
            "Epoch 0 in 2.02 sec\n",
            "Training set accuracy 0.6804148554801941\n",
            "Test set accuracy 0.6872999668121338\n",
            "Epoch 1 in 0.36 sec\n",
            "Training set accuracy 0.7815609574317932\n",
            "Test set accuracy 0.7888999581336975\n",
            "Epoch 2 in 0.36 sec\n",
            "Training set accuracy 0.8216784596443176\n",
            "Test set accuracy 0.830299973487854\n"
          ]
        }
      ],
      "source": [
        "class PureJaxMNIST:\n",
        "  \"\"\"Encapsulates the pure JAX MNIST model and training.\"\"\"\n",
        "\n",
        "  @staticmethod\n",
        "  def feature_extractor(extractor_params: Sequence[Tuple[Any, Any]], \n",
        "                        inputs):\n",
        "    # The feature extraction parts of MNIST, without the classifier layer.                          \n",
        "    # Args:\n",
        "    #   extractor_params: for each layer, the pair of weights and biases\n",
        "    #   inputs: the batch of images (B, 28, 28, 1)\n",
        "    # Returns:\n",
        "    #   features: of shape (B, 512) \n",
        "    x = inputs.reshape((inputs.shape[0], -1))  # flatten to f32[B, 784]\n",
        "    for w, b in extractor_params:\n",
        "      x = jnp.dot(x, w) + b\n",
        "      x = jnp.tanh(x)\n",
        "    return x\n",
        "\n",
        "  @staticmethod\n",
        "  def classifier(classifier_params: Tuple[Any, Any], features):\n",
        "    # Args:\n",
        "    #   classifier_params: the pair of weights and biases for the classifier\n",
        "    #   features: the extracted features (B, 512)\n",
        "    # Returns: \n",
        "    #   the predictions (B, 10)\n",
        "    w, b = classifier_params\n",
        "    logits = jnp.dot(features, w) + b\n",
        "    return logits - jax.scipy.special.logsumexp(logits, axis=1, keepdims=True)\n",
        "\n",
        "  @staticmethod\n",
        "  def predict(params: Sequence[Tuple[Any, Any]], inputs):\n",
        "    # Args:\n",
        "    #   params: a list with the extractor_params and the classifier_params (at\n",
        "    #     the tail)\n",
        "    #   inputs: the batch of images (B, 28, 28, 1)    \n",
        "    # Returns: \n",
        "    #   the predictions (B, 10)\n",
        "    features = PureJaxMNIST.feature_extractor(params[:-1], inputs)\n",
        "    predictions = PureJaxMNIST.classifier(params[-1], features)\n",
        "    return predictions\n",
        "\n",
        "  @staticmethod\n",
        "  def loss(params, inputs, labels):\n",
        "    predictions = PureJaxMNIST.predict(params, inputs)\n",
        "    return -jnp.mean(jnp.sum(predictions * labels, axis=1))\n",
        "\n",
        "  @staticmethod\n",
        "  def accuracy(predict: Callable, params, dataset):\n",
        "    @jax.jit\n",
        "    def _per_batch(inputs, labels):\n",
        "      target_class = jnp.argmax(labels, axis=1)\n",
        "      predicted_class = jnp.argmax(predict(params, inputs), axis=1)\n",
        "      return jnp.mean(predicted_class == target_class)\n",
        "    batched = [_per_batch(inputs, labels) for inputs, labels in tfds.as_numpy(dataset)]\n",
        "    return jnp.mean(jnp.stack(batched))\n",
        "\n",
        "  @staticmethod\n",
        "  def update(params, inputs, labels):\n",
        "    grads = jax.grad(PureJaxMNIST.loss)(params, inputs, labels)\n",
        "    return [(w - step_size * dw, b - step_size * db)\n",
        "            for (w, b), (dw, db) in zip(params, grads)]\n",
        "\n",
        "  @staticmethod\n",
        "  def train():\n",
        "    \"\"\"Trains a pure JAX MNIST predictor.\n",
        "\n",
        "    Returns:\n",
        "      a tuple with four elements:\n",
        "        - a predictor function with signature \"(Params, ImagesBatch) -\u003e Predictions\"\n",
        "        - the parameters \"Params\" for the predictor function\n",
        "        - a feature extractor function with signature \n",
        "          \"(ExtractorParams, ImagesBatch) -\u003e Features\"\n",
        "        - the parameters \"ExtractorParams\" for the feature extractor function \n",
        "    \"\"\"  \n",
        "    rng = jax.random.PRNGKey(0)\n",
        "    params = [\n",
        "      (param_scale * jax.random.normal(rng, (m, n)), \n",
        "      param_scale * jax.random.normal(rng, (n,)))\n",
        "      for m, n, in zip(layer_sizes[:-1], layer_sizes[1:])]\n",
        "\n",
        "    for epoch in range(num_epochs):\n",
        "      start_time = time.time()\n",
        "      for inputs, labels in tfds.as_numpy(train_ds):\n",
        "        params = jax.jit(PureJaxMNIST.update)(params, inputs, labels)\n",
        "      epoch_time = time.time() - start_time\n",
        "      train_acc = PureJaxMNIST.accuracy(PureJaxMNIST.predict, params, train_ds) \n",
        "      test_acc = PureJaxMNIST.accuracy(PureJaxMNIST.predict, params, test_ds)\n",
        "      print(\"Epoch {} in {:0.2f} sec\".format(epoch, epoch_time))\n",
        "      print(\"Training set accuracy {}\".format(train_acc))\n",
        "      print(\"Test set accuracy {}\".format(test_acc))\n",
        "\n",
        "    return (PureJaxMNIST.predict, params, \n",
        "            PureJaxMNIST.feature_extractor, params[:-1])\n",
        "\n",
        "(pure_predict, pure_params, \n",
        " pure_feature_extractor, pure_extractor_params) = PureJaxMNIST.train()"
      ]
    },
    {
      "cell_type": "code",
      "execution_count": 8,
      "metadata": {
        "colab": {
          "height": 141
        },
        "colab_type": "code",
        "executionInfo": {
          "elapsed": 826,
          "status": "ok",
          "timestamp": 1600410902774,
          "user": {
            "displayName": "",
            "photoUrl": "",
            "userId": ""
          },
          "user_tz": -180
        },
        "id": "_eiNQ-Ee5WCq",
        "outputId": "debbffa6-464a-4584-9640-0e7a427ea1d5"
      },
      "outputs": [
        {
          "data": {
            "image/png": "[encoded data removed]",
            "text/plain": [
              "\u003cFigure size 800x400 with 5 Axes\u003e"
            ]
          },
          "metadata": {
            "tags": []
          },
          "output_type": "display_data"
        }
      ],
      "source": [
        "# Plot a few predictions for the first batch of the test set\n",
        "plot_images([(images, pure_predict(pure_params, images))\n",
        "              for images, _ in tfds.as_numpy(test_ds.take(1))], \n",
        "            1, 5, is_predicted=True)"
      ]
    },
    {
      "cell_type": "markdown",
      "metadata": {
        "colab_type": "text",
        "id": "ALKaq_cL8fTj"
      },
      "source": [
        "## MNIST in Flax\n",
        "\n",
        "This follows the structure of the \n",
        "[MNIST Flax (Linen) example](https://github.com/google/flax/blob/master/linen_examples/mnist/mnist_lib.py)."
      ]
    },
    {
      "cell_type": "code",
      "execution_count": 9,
      "metadata": {
        "colab": {
          "height": 170
        },
        "colab_type": "code",
        "executionInfo": {
          "elapsed": 8781,
          "status": "ok",
          "timestamp": 1600410911582,
          "user": {
            "displayName": "",
            "photoUrl": "",
            "userId": ""
          },
          "user_tz": -180
        },
        "id": "zX_doiSgNzOS",
        "outputId": "db53e229-38fe-4e8e-ff47-4dd5fc61fb65"
      },
      "outputs": [
        {
          "name": "stdout",
          "output_type": "stream",
          "text": [
            "Epoch 0 in 1.95 sec\n",
            "Training set accuracy 0.8770101070404053\n",
            "Test set accuracy 0.8836999535560608\n",
            "Epoch 1 in 0.45 sec\n",
            "Training set accuracy 0.9075493216514587\n",
            "Test set accuracy 0.9129999876022339\n",
            "Epoch 2 in 0.46 sec\n",
            "Training set accuracy 0.920503556728363\n",
            "Test set accuracy 0.9266999959945679\n"
          ]
        }
      ],
      "source": [
        "import flax\n",
        "from flax import linen as nn\n",
        "\n",
        "class FlaxMNIST:\n",
        "  \"\"\"Encapsulates the Flax MNIST model and training.\"\"\"\n",
        "\n",
        "  class FeatureExtractorModule(nn.Module):\n",
        "    \"\"\"A simple CNN model for MNIST, with only the feature extraction parts.\"\"\"\n",
        "\n",
        "    @nn.compact\n",
        "    def __call__(self, x):\n",
        "      x = nn.Conv(features=32, kernel_size=(3, 3))(x)\n",
        "      x = nn.relu(x)\n",
        "      x = nn.avg_pool(x, window_shape=(2, 2), strides=(2, 2))\n",
        "      x = nn.Conv(features=64, kernel_size=(3, 3))(x)\n",
        "      x = nn.relu(x)\n",
        "      x = nn.avg_pool(x, window_shape=(2, 2), strides=(2, 2))\n",
        "      x = x.reshape((x.shape[0], -1))  # flatten\n",
        "      x = nn.Dense(features=256)(x)\n",
        "      x = nn.relu(x)\n",
        "      return x\n",
        "\n",
        "  @staticmethod\n",
        "  def feature_extractor(extractor_params, inputs):\n",
        "    \"\"\"A functional interface to the trained FeatureExtractorModule.\"\"\"\n",
        "    return FlaxMNIST.FeatureExtractorModule().apply({'params': extractor_params},\n",
        "                                                    inputs)\n",
        "\n",
        "  class Module(nn.Module):\n",
        "    \"\"\"The whole model.\"\"\"\n",
        "\n",
        "    def setup(self):\n",
        "      self.feature_extractor = FlaxMNIST.FeatureExtractorModule()\n",
        "\n",
        "    @nn.compact\n",
        "    def __call__(self, x):\n",
        "      x = self.feature_extractor(x)\n",
        "      x = nn.Dense(features=10)(x)\n",
        "      x = nn.log_softmax(x)\n",
        "      return x\n",
        "\n",
        "  @staticmethod\n",
        "  def predict(params, inputs):\n",
        "    \"\"\"A functional interface to the trained Module.\"\"\"\n",
        "    return FlaxMNIST.Module().apply({'params': params}, inputs)\n",
        "\n",
        "  @staticmethod\n",
        "  def loss(params, inputs, labels):  # Same as the pure JAX example\n",
        "    predictions = FlaxMNIST.predict(params, inputs)\n",
        "    return -jnp.mean(jnp.sum(predictions * labels, axis=1))\n",
        "\n",
        "  @staticmethod\n",
        "  def update(optimizer, inputs, labels):\n",
        "    grad = jax.grad(FlaxMNIST.loss)(optimizer.target, inputs, labels)\n",
        "    optimizer = optimizer.apply_gradient(grad)\n",
        "    return optimizer\n",
        "\n",
        "  @staticmethod\n",
        "  def train():\n",
        "    \"\"\"Trains a pure JAX MNIST predictor.\n",
        "\n",
        "    Returns:\n",
        "      a tuple with four elements:\n",
        "        - a predictor function with signature \"(Params, ImagesBatch) -\u003e Predictions\"\n",
        "        - the parameters \"Params\" for the predictor function\n",
        "        - a feature extractor function with signature\n",
        "          \"(ExtractorParams, ImagesBatch) -\u003e Features\"\n",
        "        - the parameters \"ExtractorParams\" for the feature extractor function\n",
        "    \"\"\"\n",
        "    rng = jax.random.PRNGKey(0)\n",
        "    momentum_mass = 0.9\n",
        "\n",
        "    init_shape = jnp.ones((1,) + input_shape, jnp.float32)\n",
        "    initial_params = FlaxMNIST.Module().init(rng, init_shape)[\"params\"]\n",
        "    optimizer_def = flax.optim.Momentum(learning_rate=step_size, beta=momentum_mass)\n",
        "    optimizer = optimizer_def.create(initial_params)\n",
        "\n",
        "    for epoch in range(num_epochs):\n",
        "      start_time = time.time()\n",
        "      for inputs, labels in tfds.as_numpy(train_ds):\n",
        "        optimizer = jax.jit(FlaxMNIST.update)(optimizer, inputs, labels)\n",
        "      epoch_time = time.time() - start_time\n",
        "      # Same accuracy function as for the pure JAX example\n",
        "      train_acc = PureJaxMNIST.accuracy(FlaxMNIST.predict, optimizer.target, train_ds)\n",
        "      test_acc = PureJaxMNIST.accuracy(FlaxMNIST.predict, optimizer.target, test_ds)\n",
        "      print(\"Epoch {} in {:0.2f} sec\".format(epoch, epoch_time))\n",
        "      print(\"Training set accuracy {}\".format(train_acc))\n",
        "      print(\"Test set accuracy {}\".format(test_acc))\n",
        "\n",
        "    return (FlaxMNIST.predict, optimizer.target,\n",
        "            FlaxMNIST.feature_extractor, optimizer.target[\"feature_extractor\"])\n",
        "\n",
        "(flax_predict, flax_params, \n",
        " flax_feature_extractor, flax_extractor_params) = FlaxMNIST.train()\n",
        "\n"
      ]
    },
    {
      "cell_type": "code",
      "execution_count": 10,
      "metadata": {
        "colab": {
          "height": 141
        },
        "colab_type": "code",
        "executionInfo": {
          "elapsed": 1226,
          "status": "ok",
          "timestamp": 1600410912819,
          "user": {
            "displayName": "",
            "photoUrl": "",
            "userId": ""
          },
          "user_tz": -180
        },
        "id": "4DKeNutf7zX_",
        "outputId": "720af7b6-c20c-4be0-a0c8-115554e36f49"
      },
      "outputs": [
        {
          "data": {
            "image/png": "[encoded data removed]",
            "text/plain": [
              "\u003cFigure size 800x400 with 5 Axes\u003e"
            ]
          },
          "metadata": {
            "tags": []
          },
          "output_type": "display_data"
        }
      ],
      "source": [
        "# Plot predictions for the first batch of the test set\n",
        "plot_images([(images, flax_predict(flax_params, images))\n",
        "              for images, _ in tfds.as_numpy(test_ds.take(1))], \n",
        "            1, 5, is_predicted=True)"
      ]
    },
    {
      "cell_type": "markdown",
      "metadata": {
        "colab_type": "text",
        "id": "Og3FPMFNXRd9"
      },
      "source": [
        "# Export to SavedModel\n",
        "\n",
        "Follow [reusable SavedModel guidelines](https://www.tensorflow.org/hub/reusable_saved_models). \n",
        "\n",
        "This wrapper class adapts between the Reusable SavedModel API\n",
        "and the style in which a JAX model is built. Going forward, \n",
        "there can probably be a generic adapter class for each modeling\n",
        "library (such as Flax).\n",
        "\n"
      ]
    },
    {
      "cell_type": "code",
      "execution_count": 11,
      "metadata": {
        "colab": {},
        "colab_type": "code",
        "executionInfo": {
          "elapsed": 389,
          "status": "ok",
          "timestamp": 1600410913212,
          "user": {
            "displayName": "",
            "photoUrl": "",
            "userId": ""
          },
          "user_tz": -180
        },
        "id": "NkwTO-myXiXH"
      },
      "outputs": [],
      "source": [
        "class ExportWrapper(tf.train.Checkpoint):\n",
        "\n",
        "  def __init__(self, fn: Callable, params, \n",
        "               input_shape: Sequence[int], \n",
        "               batch_sizes: Sequence[int]):\n",
        "    \"\"\"\n",
        "    Args:\n",
        "      fn: a function taking two arguments, the parameters and the batch of \n",
        "        images.\n",
        "      params: the parameters, as a list/tuple/dictionary of np.ndarray, to be \n",
        "        used as first argument for `fn`.\n",
        "     input_shape: the shape of the second argument of `fn` (except the batch size)\n",
        "     batch_sizes: a sequence of batch sizes for which to save the function.\n",
        "    \"\"\"\n",
        "    super().__init__()\n",
        "    # Convert fn from JAX to TF.\n",
        "    with_gradient = False  # Avoid b/123499169.\n",
        "    self._fn = jax2tf.convert(fn, with_gradient=with_gradient)\n",
        "    # Create tf.Variables for the parameters.\n",
        "    self._params = tf.nest.map_structure(\n",
        "        # If with_gradient=False, we mark the variables behind as non-trainable,\n",
        "        # or else the Keras model below fails for trying to access them\n",
        "        # (even with hub.KerasLayer(..., trainable=False), surprisingly).\n",
        "        lambda param: tf.Variable(param, trainable=with_gradient),\n",
        "        params)\n",
        "    self._signatures = {}\n",
        "\n",
        "    # Implement the interface from https://www.tensorflow.org/hub/reusable_saved_models\n",
        "    self.variables = tf.nest.flatten(self._params)\n",
        "    self.trainable_variables = [v for v in self.variables if v.trainable]\n",
        "    for training in (True, False):\n",
        "      # TODO: batch_size should be None, and nothing else.\n",
        "      for batch_size in batch_sizes:\n",
        "        input_spec = tf.TensorSpec([batch_size] + list(input_shape), tf.float32)\n",
        "        cf = self.__call__.get_concrete_function(input_spec, training=training)\n",
        "    # If you intend to prescribe regularization terms for users of the model,\n",
        "    # add them as @tf.functions with no inputs to this list. Else drop this.\n",
        "    self.regularization_losses = []\n",
        "\n",
        "  @tf.function(autograph=False)\n",
        "  def __call__(self, inputs, training=False):\n",
        "    del training  # Unused for now.\n",
        "    # Future directions:\n",
        "    # - If _fn depends on mode (training or inference), pass on `training`.\n",
        "    # - If _fn depens on numeric hyperparameters (e.g., dropout rate),\n",
        "    #   add them as kwargs that have a Python constant as default but\n",
        "    #   get traced with tf.TensorSpec([], ...).\n",
        "    # - If _fn needs to execute update ops during training, e.g., to update\n",
        "    #   batch norm's aggregate stats, make them happen as control dependencies\n",
        "    #   on outputs if training is true.\n",
        "    outputs = self._fn(self._params, inputs)\n",
        "    return outputs\n",
        "\n",
        "def save_model(fn: Callable, params, \n",
        "               model_dir: str, *, batch_sizes: Optional[Sequence[int]] = None):\n",
        "  \"\"\"Saves the SavedModel for a function\"\"\"\n",
        "  batch_sizes = batch_sizes or [1, eval_batch_size, train_batch_size]\n",
        "  wrapper = ExportWrapper(\n",
        "    fn, params, input_shape,\n",
        "    batch_sizes=batch_sizes)\n",
        "  print(f\"Saving the model to {model_dir}\")\n",
        "  tf.saved_model.save(wrapper, model_dir)\n"
      ]
    },
    {
      "cell_type": "code",
      "execution_count": 12,
      "metadata": {
        "colab": {
          "height": 34
        },
        "colab_type": "code",
        "executionInfo": {
          "elapsed": 851,
          "status": "ok",
          "timestamp": 1600410914079,
          "user": {
            "displayName": "",
            "photoUrl": "",
            "userId": ""
          },
          "user_tz": -180
        },
        "id": "3TJTP0aHe2Qv",
        "outputId": "34cda203-9a59-4a2b-f08d-e2264657785b"
      },
      "outputs": [
        {
          "name": "stdout",
          "output_type": "stream",
          "text": [
            "Saving the model to /tmp/jax2tf/pure_mnist_full_model\n"
          ]
        }
      ],
      "source": [
        "# Export the full trained model (pure JAX).\n",
        "pure_predict_model_dir = \"/tmp/jax2tf/pure_mnist_full_model\"\n",
        "save_model(pure_predict, pure_params, pure_predict_model_dir)"
      ]
    },
    {
      "cell_type": "code",
      "execution_count": 13,
      "metadata": {
        "colab": {
          "height": 34
        },
        "colab_type": "code",
        "executionInfo": {
          "elapsed": 549,
          "status": "ok",
          "timestamp": 1600410914652,
          "user": {
            "displayName": "",
            "photoUrl": "",
            "userId": ""
          },
          "user_tz": -180
        },
        "id": "TS_DBukde4h9",
        "outputId": "1f6040ec-6483-40b7-d07e-6c76bddabe6e"
      },
      "outputs": [
        {
          "name": "stdout",
          "output_type": "stream",
          "text": [
            "Saving the model to /tmp/jax2tf/pure_mnist_features\n"
          ]
        }
      ],
      "source": [
        "# Export the feature extractor only (pure JAX).\n",
        "pure_feature_extractor_model_dir = \"/tmp/jax2tf/pure_mnist_features\"\n",
        "save_model(pure_feature_extractor, pure_extractor_params, pure_feature_extractor_model_dir)"
      ]
    },
    {
      "cell_type": "code",
      "execution_count": 14,
      "metadata": {
        "colab": {
          "height": 34
        },
        "colab_type": "code",
        "executionInfo": {
          "elapsed": 1185,
          "status": "ok",
          "timestamp": 1600410915847,
          "user": {
            "displayName": "",
            "photoUrl": "",
            "userId": ""
          },
          "user_tz": -180
        },
        "id": "ynp2IIO7dKiT",
        "outputId": "66347247-e996-45cf-f037-16683c6ec155"
      },
      "outputs": [
        {
          "name": "stdout",
          "output_type": "stream",
          "text": [
            "Saving the model to /tmp/jax2tf/flax_mnist_full_model\n"
          ]
        }
      ],
      "source": [
        "# Export the full trained model (Flax)\n",
        "flax_predict_model_dir = \"/tmp/jax2tf/flax_mnist_full_model\"\n",
        "save_model(flax_predict, flax_params, flax_predict_model_dir)"
      ]
    },
    {
      "cell_type": "code",
      "execution_count": 15,
      "metadata": {
        "colab": {
          "height": 34
        },
        "colab_type": "code",
        "executionInfo": {
          "elapsed": 815,
          "status": "ok",
          "timestamp": 1600410916681,
          "user": {
            "displayName": "",
            "photoUrl": "",
            "userId": ""
          },
          "user_tz": -180
        },
        "id": "2CJOr24qx8lN",
        "outputId": "d60ca24b-6221-4792-9e20-c5d0ac25abc2"
      },
      "outputs": [
        {
          "name": "stdout",
          "output_type": "stream",
          "text": [
            "Saving the model to /tmp/jax2tf/flax_mnist_features\n"
          ]
        }
      ],
      "source": [
        "# Export the feature extractor only (Flax)\n",
        "flax_feature_extractor_model_dir = \"/tmp/jax2tf/flax_mnist_features\"\n",
        "save_model(flax_feature_extractor, flax_extractor_params, flax_feature_extractor_model_dir)"
      ]
    },
    {
      "cell_type": "markdown",
      "metadata": {
        "colab_type": "text",
        "id": "zZNsXk-0HYWi"
      },
      "source": [
        "Congrats! \n",
        "Reusable SavedModels like these can be shared with TensorFlow users on \n",
        "the filesystem or by [ publishing on TF Hub ]( https://www.tensorflow.org/hub/exporting_tf2_saved_model )\n",
        "."
      ]
    },
    {
      "cell_type": "markdown",
      "metadata": {
        "colab_type": "text",
        "id": "s0kuO4DJa3n7"
      },
      "source": [
        "## Import and run the SavedModels\n"
      ]
    },
    {
      "cell_type": "markdown",
      "metadata": {
        "colab_type": "text",
        "id": "V47pJNkQgAHx"
      },
      "source": [
        "Those SavedModels can now be imported into TensorFlow.\n",
        "\n",
        "TensorFlow sometimes requires an explicit `with tf.device(tf_accelerator): ...` context to use the same accelerator as JAX, esp. for TPUs. We pick the best we can find in the colab runtime."
      ]
    },
    {
      "cell_type": "code",
      "execution_count": 16,
      "metadata": {
        "colab": {
          "height": 34
        },
        "colab_type": "code",
        "executionInfo": {
          "elapsed": 364,
          "status": "ok",
          "timestamp": 1600410917064,
          "user": {
            "displayName": "",
            "photoUrl": "",
            "userId": ""
          },
          "user_tz": -180
        },
        "id": "fNPOLJGwfzW8",
        "outputId": "8c5a8987-8ccf-4ed5-ee58-98133b4e0e6e"
      },
      "outputs": [
        {
          "name": "stdout",
          "output_type": "stream",
          "text": [
            "Using tf_accelerator = LogicalDevice(name='/device:TPU:0', device_type='TPU')\n"
          ]
        }
      ],
      "source": [
        "tf_accelerator = (tf.config.list_logical_devices(\"TPU\") +\n",
        "                  tf.config.list_logical_devices(\"GPU\") + \n",
        "                  tf.config.list_logical_devices(\"CPU\"))[0]\n",
        "print(f\"Using tf_accelerator = {tf_accelerator}\")"
      ]
    },
    {
      "cell_type": "markdown",
      "metadata": {
        "colab_type": "text",
        "id": "lFCJF0xaf7vc"
      },
      "source": [
        "When comparing models between JAX and TF, we observed varying numerical tolerances depending on device type."
      ]
    },
    {
      "cell_type": "code",
      "execution_count": 17,
      "metadata": {
        "colab": {
          "height": 34
        },
        "colab_type": "code",
        "executionInfo": {
          "elapsed": 362,
          "status": "ok",
          "timestamp": 1600410917446,
          "user": {
            "displayName": "",
            "photoUrl": "",
            "userId": ""
          },
          "user_tz": -180
        },
        "id": "LUw1R-whf_Md",
        "outputId": "c69740e7-cbc7-43a3-d50f-fb663840252a"
      },
      "outputs": [
        {
          "name": "stdout",
          "output_type": "stream",
          "text": [
            "Using {'atol': 0, 'rtol': 0}\n"
          ]
        }
      ],
      "source": [
        "if tf_accelerator.device_type == \"TPU\":\n",
        "  tolerances = dict(atol=0, rtol=0)  # Wow! Worked Sep '20. May need loosening.\n",
        "elif tf_accelerator.device_type == \"GPU\":\n",
        "  tolerances = dict(atol=1e-6, rtol=1e-4)\n",
        "elif tf_accelerator.device_type == \"CPU\":\n",
        "  tolerances = dict(atol=1e-6, rtol=1e-6)\n",
        "print(\"Using\", tolerances)"
      ]
    },
    {
      "cell_type": "markdown",
      "metadata": {
        "colab_type": "text",
        "id": "IuXIwY6ZgRA2"
      },
      "source": [
        "The following code block shows how to load the full JAX model in low-level TF,\n",
        "and tests that it behaves the same as in JAX.\n",
        "\n",
        "NOTE: You can replace tf.saved_model.load() by hub.load()\n",
        "to make it work on TF Hub handles in addition to ordinary filesystem paths."
      ]
    },
    {
      "cell_type": "code",
      "execution_count": 18,
      "metadata": {
        "colab": {
          "height": 141
        },
        "colab_type": "code",
        "executionInfo": {
          "elapsed": 897,
          "status": "ok",
          "timestamp": 1600410918350,
          "user": {
            "displayName": "",
            "photoUrl": "",
            "userId": ""
          },
          "user_tz": -180
        },
        "id": "a_FH5qLEZZs-",
        "outputId": "59746bfa-cab1-4db5-9c3d-d7ee9be7025f"
      },
      "outputs": [
        {
          "data": {
            "image/png": "[encoded data removed]",
            "text/plain": [
              "\u003cFigure size 800x400 with 5 Axes\u003e"
            ]
          },
          "metadata": {
            "tags": []
          },
          "output_type": "display_data"
        }
      ],
      "source": [
        "with tf.device(tf_accelerator):\n",
        "  pure_restored_full_model = tf.saved_model.load(pure_predict_model_dir)\n",
        "  test_input = np.ones([eval_batch_size] + list(input_shape), dtype=np.float32)\n",
        "  np.testing.assert_allclose(pure_restored_full_model(tf.convert_to_tensor(test_input)),\n",
        "                             pure_predict(pure_params, test_input),\n",
        "                             **tolerances)\n",
        "  \n",
        "# Plot predictions for the first batch of the test set\n",
        "plot_images([(images, pure_restored_full_model(tf.convert_to_tensor(images)))\n",
        "              for images, _ in tfds.as_numpy(test_ds.take(1))], \n",
        "            1, 5, is_predicted=True)"
      ]
    },
    {
      "cell_type": "markdown",
      "metadata": {
        "colab_type": "text",
        "id": "SsvAfWHH94uA"
      },
      "source": [
        "Now the same thing for the Flax model."
      ]
    },
    {
      "cell_type": "code",
      "execution_count": 19,
      "metadata": {
        "colab": {
          "height": 141
        },
        "colab_type": "code",
        "executionInfo": {
          "elapsed": 1277,
          "status": "ok",
          "timestamp": 1600410919634,
          "user": {
            "displayName": "",
            "photoUrl": "",
            "userId": ""
          },
          "user_tz": -180
        },
        "id": "zxVi2xia97sO",
        "outputId": "f4c1f331-bc86-4f95-f3b8-d794632660ff"
      },
      "outputs": [
        {
          "data": {
            "image/png": "[encoded data removed]",
            "text/plain": [
              "\u003cFigure size 800x400 with 5 Axes\u003e"
            ]
          },
          "metadata": {
            "tags": []
          },
          "output_type": "display_data"
        }
      ],
      "source": [
        "with tf.device(tf_accelerator):\n",
        "  flax_restored_full_model = tf.saved_model.load(flax_predict_model_dir)\n",
        "  test_input = np.ones([eval_batch_size] + list(input_shape), dtype=np.float32)\n",
        "  np.testing.assert_allclose(flax_restored_full_model(tf.convert_to_tensor(test_input)),\n",
        "                             flax_predict(flax_params, test_input),\n",
        "                             **tolerances)\n",
        "\n",
        "# Plot predictions for the first batch of the test set\n",
        "plot_images([(images, flax_restored_full_model(tf.convert_to_tensor(images)))\n",
        "              for images, _ in tfds.as_numpy(test_ds.take(1))], \n",
        "            1, 5, is_predicted=True)"
      ]
    },
    {
      "cell_type": "markdown",
      "metadata": {
        "colab_type": "text",
        "id": "Fhm2kxL_gIF5"
      },
      "source": [
        "# Reuse in Keras of the MNIST feature extractor \n",
        "\n",
        "The feature extractor model can be imported in TensorFlow \n",
        "to train a new classifier on top of it.\n",
        "\n",
        "For ease of training, we show this with the high-level Keras API, \n",
        "but it should also be possible in low-level TensorFlow (using the \n",
        "restored_features under a tf.GradientTape and doing gradient updates\n",
        "manually).\n",
        "\n",
        "With Keras, we use the `tf.distribute.OneDeviceStrategy`\n",
        "as the high-level analogue of the `tf.device(...)` placement seen above.\n",
        "It works on CPU, GPU and TPU.\n",
        "Actual high-performance training would use the appropriatey replicated\n",
        "[TF Distribution Strategy](https://www.tensorflow.org/guide/distributed_training)."
      ]
    },
    {
      "cell_type": "code",
      "execution_count": 20,
      "metadata": {
        "colab": {},
        "colab_type": "code",
        "executionInfo": {
          "elapsed": 1014,
          "status": "ok",
          "timestamp": 1600410920652,
          "user": {
            "displayName": "",
            "photoUrl": "",
            "userId": ""
          },
          "user_tz": -180
        },
        "id": "XVqQugf6iZKL"
      },
      "outputs": [],
      "source": [
        "#@title Choose the model {form-width: \"25%\"}\n",
        "import tensorflow_hub as hub\n",
        "\n",
        "model_choice = \"Pure JAX\"  #@param[\"Pure JAX\", \"Flax\"]\n",
        "if model_choice == \"Pure JAX\":\n",
        "  feature_extractor_model_dir = pure_feature_extractor_model_dir\n",
        "  feature_extractor = pure_feature_extractor\n",
        "  feature_extractor_params = pure_extractor_params\n",
        "else:\n",
        "  feature_extractor_model_dir = flax_feature_extractor_model_dir\n",
        "  feature_extractor = flax_feature_extractor\n",
        "  feature_extractor_params = flax_extractor_params\n",
        "\n",
        "strategy = tf.distribute.OneDeviceStrategy(tf_accelerator)\n",
        "with strategy.scope():\n",
        "  images = tf.keras.layers.Input(input_shape, batch_size=128)\n",
        "  keras_feature_extractor = hub.KerasLayer(feature_extractor_model_dir, trainable=False)\n",
        "  features = keras_feature_extractor(images)\n",
        "  predictor = tf.keras.layers.Dense(10, activation='softmax')\n",
        "  predictions = predictor(features)\n",
        "  keras_model = tf.keras.Model(images, predictions)"
      ]
    },
    {
      "cell_type": "markdown",
      "metadata": {
        "colab_type": "text",
        "id": "9sQwotZMihRn"
      },
      "source": [
        "The imported feature_extractor behaves the same as the JAX original."
      ]
    },
    {
      "cell_type": "code",
      "execution_count": 21,
      "metadata": {
        "colab": {},
        "colab_type": "code",
        "executionInfo": {
          "elapsed": 426,
          "status": "ok",
          "timestamp": 1600410921082,
          "user": {
            "displayName": "",
            "photoUrl": "",
            "userId": ""
          },
          "user_tz": -180
        },
        "id": "UL8yKvxiikWQ"
      },
      "outputs": [],
      "source": [
        "with tf.device(tf_accelerator):\n",
        "  np.testing.assert_allclose(keras_feature_extractor(tf.convert_to_tensor(test_input)),\n",
        "                            feature_extractor(feature_extractor_params, test_input),\n",
        "                            **tolerances)"
      ]
    },
    {
      "cell_type": "markdown",
      "metadata": {
        "colab_type": "text",
        "id": "8ekdmlb2hPPL"
      },
      "source": [
        "Now train the new classifier on top."
      ]
    },
    {
      "cell_type": "code",
      "execution_count": 22,
      "metadata": {
        "colab": {
          "height": 408
        },
        "colab_type": "code",
        "executionInfo": {
          "elapsed": 13401,
          "status": "ok",
          "timestamp": 1600410934491,
          "user": {
            "displayName": "",
            "photoUrl": "",
            "userId": ""
          },
          "user_tz": -180
        },
        "id": "xxphn5oShRL0",
        "outputId": "1daad8e8-28bb-40cf-ffa4-25554d0a1b1c"
      },
      "outputs": [
        {
          "name": "stdout",
          "output_type": "stream",
          "text": [
            "Using feature extractor: Pure JAX\n",
            "Model: \"model\"\n",
            "_________________________________________________________________\n",
            "Layer (type)                 Output Shape              Param #   \n",
            "=================================================================\n",
            "input_1 (InputLayer)         [(128, 28, 28, 1)]        0         \n",
            "_________________________________________________________________\n",
            "keras_layer (KerasLayer)     (128, 512)                664576    \n",
            "_________________________________________________________________\n",
            "dense (Dense)                (128, 10)                 5130      \n",
            "=================================================================\n",
            "Total params: 669,706\n",
            "Trainable params: 5,130\n",
            "Non-trainable params: 664,576\n",
            "_________________________________________________________________\n",
            "None\n",
            "Epoch 1/3\n",
            "468/468 [==============================] - 4s 8ms/step - loss: 1.3212 - accuracy: 0.5832 - val_loss: 0.5339 - val_accuracy: 0.8533\n",
            "Epoch 2/3\n",
            "468/468 [==============================] - 3s 6ms/step - loss: 0.5177 - accuracy: 0.8544 - val_loss: 0.4281 - val_accuracy: 0.8816\n",
            "Epoch 3/3\n",
            "468/468 [==============================] - 3s 6ms/step - loss: 0.4326 - accuracy: 0.8775 - val_loss: 0.3839 - val_accuracy: 0.8931\n"
          ]
        },
        {
          "data": {
            "text/plain": [
              "\u003cHistory at 0x7fc394c8c9e8\u003e"
            ]
          },
          "execution_count": 22,
          "metadata": {
            "tags": []
          },
          "output_type": "execute_result"
        }
      ],
      "source": [
        "print(f\"Using feature extractor: {model_choice}\")\n",
        "keras_model.compile(loss=tf.keras.losses.categorical_crossentropy,\n",
        "                    optimizer=tf.keras.optimizers.SGD(learning_rate=0.01),\n",
        "                    metrics=['accuracy'])\n",
        "print(keras_model.summary())\n",
        "\n",
        "train_ds = load_mnist(tfds.Split.TRAIN, one_hot_label=True,\n",
        "                      batch_size=train_batch_size, drop_remainder=True)\n",
        "test_ds = load_mnist(tfds.Split.TEST, one_hot_label=True,\n",
        "                    batch_size=eval_batch_size, drop_remainder=True)\n",
        "keras_model.fit(train_ds, epochs=3,\n",
        "                validation_data=test_ds)"
      ]
    },
    {
      "cell_type": "code",
      "execution_count": 23,
      "metadata": {
        "colab": {
          "height": 141
        },
        "colab_type": "code",
        "executionInfo": {
          "elapsed": 656,
          "status": "ok",
          "timestamp": 1600410935185,
          "user": {
            "displayName": "",
            "photoUrl": "",
            "userId": ""
          },
          "user_tz": -180
        },
        "id": "9QZh1-VAivos",
        "outputId": "30df3614-2ab5-4205-d7bb-c85d4f418b8a"
      },
      "outputs": [
        {
          "data": {
            "image/png": "[encoded data removed]",
            "text/plain": [
              "\u003cFigure size 800x400 with 5 Axes\u003e"
            ]
          },
          "metadata": {
            "tags": []
          },
          "output_type": "display_data"
        }
      ],
      "source": [
        "# Plot predictions for the first batch of the test set\n",
        "plot_images([(images, keras_model(tf.convert_to_tensor(images)))\n",
        "              for images, _ in tfds.as_numpy(test_ds.take(1))], \n",
        "            1, 5, is_predicted=True)"
      ]
    },
    {
      "cell_type": "markdown",
      "metadata": {
        "colab_type": "text",
        "id": "xL8XXzD9hEEk"
      },
      "source": [
        "The imported feature_extractor behaves the same as the JAX original."
      ]
    },
    {
      "cell_type": "code",
      "execution_count": 24,
      "metadata": {
        "colab": {},
        "colab_type": "code",
        "executionInfo": {
          "elapsed": 360,
          "status": "ok",
          "timestamp": 1600410935550,
          "user": {
            "displayName": "",
            "photoUrl": "",
            "userId": ""
          },
          "user_tz": -180
        },
        "id": "mYIeYj5ghHLz"
      },
      "outputs": [],
      "source": [
        "with tf.device(tf_accelerator):\n",
        "  np.testing.assert_allclose(keras_feature_extractor(tf.convert_to_tensor(test_input)),\n",
        "                            feature_extractor(feature_extractor_params, test_input),\n",
        "                            **tolerances)"
      ]
    }
  ],
  "metadata": {
    "colab": {
      "collapsed_sections": [],
      "last_runtime": {
        "build_target": "//learning/deepmind/public/tools/ml_python:ml_notebook",
        "kind": "private"
      },
      "name": "JAX-TensorFlow interoperation with JAX2TF",
      "provenance": [
        {
          "file_id": "1RNB_0bBt_NcmnVIaRRQbXWjvf4O3l72q",
          "timestamp": 1599549300136
        },
        {
          "file_id": "1Vz_N3S1t0bd8snM7sUzG9ZMFVVutfQNO",
          "timestamp": 1597314103709
        }
      ],
      "toc_visible": true
    },
    "kernelspec": {
      "display_name": "Python 3",
      "name": "python3"
    }
  },
  "nbformat": 4,
  "nbformat_minor": 0
}
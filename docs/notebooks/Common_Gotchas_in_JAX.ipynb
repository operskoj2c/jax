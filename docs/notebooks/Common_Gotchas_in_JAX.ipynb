{
 "cells": [
  {
   "cell_type": "markdown",
   "metadata": {
    "id": "hjM_sV_AepYf"
   },
   "source": [
    "# 🔪 JAX - The Sharp Bits 🔪\n",
    "\n",
    "[![Open in Colab](https://colab.research.google.com/assets/colab-badge.svg)](https://colab.research.google.com/github/google/jax/blob/master/docs/notebooks/Common_Gotchas_in_JAX.ipynb)"
   ]
  },
  {
   "cell_type": "markdown",
   "metadata": {
    "id": "4k5PVzEo2uJO"
   },
   "source": [
    "*levskaya@ mattjj@*\n",
    "\n",
    "When walking about the countryside of [Italy](https://iaml.it/blog/jax-intro), the people will not hesitate to tell you that __JAX__ has _\"una anima di pura programmazione funzionale\"_.\n",
    "\n",
    "__JAX__ is a language for __expressing__ and __composing__ __transformations__ of numerical programs. __JAX__ is also able to __compile__ numerical programs for CPU or accelerators (GPU/TPU). \n",
    "JAX works great for many numerical and scientific programs, but __only if they are written with certain constraints__ that we describe below."
   ]
  },
  {
   "cell_type": "code",
   "execution_count": 0,
   "metadata": {
    "id": "GoK_PCxPeYcy"
   },
   "outputs": [],
   "source": [
    "import numpy as np\n",
    "from jax import grad, jit\n",
    "from jax import lax\n",
    "from jax import random\n",
    "import jax\n",
    "import jax.numpy as jnp\n",
    "import matplotlib as mpl\n",
    "from matplotlib import pyplot as plt\n",
    "from matplotlib import rcParams\n",
    "rcParams['image.interpolation'] = 'nearest'\n",
    "rcParams['image.cmap'] = 'viridis'\n",
    "rcParams['axes.grid'] = False"
   ]
  },
  {
   "cell_type": "markdown",
   "metadata": {
    "id": "gX8CZU1g2agP"
   },
   "source": [
    "## 🔪 Pure functions"
   ]
  },
  {
   "cell_type": "markdown",
   "metadata": {
    "id": "2oHigBkW2dPT"
   },
   "source": [
    "JAX transformation and compilation are designed to work only on Python functions that are functionally pure: all the input data is passed through the function parameters, all the results are output through the function results. A pure function will always return the same result if invoked with the same inputs. \n",
    "\n",
    "Here are some examples of functions that are not functially pure for which JAX behaves differently than the Python interpreter. Note that these behaviors are not guaranteed by the JAX system; the proper way to use JAX is to use it only on functionally pure Python functions."
   ]
  },
  {
   "cell_type": "code",
   "execution_count": 121,
   "metadata": {
    "id": "A6R-pdcm4u3v",
    "outputId": "389605df-a4d5-4d4b-8d74-64e9d5d39456"
   },
   "outputs": [
    {
     "name": "stdout",
     "output_type": "stream",
     "text": [
      "Executing function\n",
      "First call:  4.0\n",
      "Second call:  5.0\n",
      "Executing function\n",
      "Third call, different type:  [5.]\n"
     ]
    }
   ],
   "source": [
    "def impure_print_side_effect(x):\n",
    "  print(\"Executing function\")  # This is a side-effect \n",
    "  return x\n",
    "\n",
    "# The side-effects appear during the first run  \n",
    "print (\"First call: \", jit(impure_print_side_effect)(4.))\n",
    "\n",
    "# Subsequent runs with parameters of same type and shape may not show the side-effect\n",
    "# This is because JAX now invokes a cached compilation of the function\n",
    "print (\"Second call: \", jit(impure_print_side_effect)(5.))\n",
    "\n",
    "# JAX re-runs the Python function when the type or shape of the argument changes\n",
    "print (\"Third call, different type: \", jit(impure_print_side_effect)(jnp.array([5.])))"
   ]
  },
  {
   "cell_type": "code",
   "execution_count": 122,
   "metadata": {
    "id": "-N8GhitI2bhD",
    "outputId": "f16ce914-1387-43b4-9b8a-1d6e3b97b11d"
   },
   "outputs": [
    {
     "name": "stdout",
     "output_type": "stream",
     "text": [
      "First call:  4.0\n",
      "Second call:  5.0\n",
      "Third call, different type:  [14.]\n"
     ]
    }
   ],
   "source": [
    "g = 0.\n",
    "def impure_uses_globals(x):\n",
    "  return x + g\n",
    "\n",
    "# JAX captures the value of the global during the first run\n",
    "print (\"First call: \", jit(impure_uses_globals)(4.))\n",
    "g = 10.  # Update the global\n",
    "\n",
    "# Subsequent runs may silently use the cached value of the globals\n",
    "print (\"Second call: \", jit(impure_uses_globals)(5.))\n",
    "\n",
    "# JAX re-runs the Python function when the type or shape of the argument changes\n",
    "# This will end up reading the latest value of the global\n",
    "print (\"Third call, different type: \", jit(impure_uses_globals)(jnp.array([4.])))"
   ]
  },
  {
   "cell_type": "code",
   "execution_count": 123,
   "metadata": {
    "id": "RTB6iFgu4DL6",
    "outputId": "e93d2a70-1c18-477a-d69d-d09ed556305a"
   },
   "outputs": [
    {
     "name": "stdout",
     "output_type": "stream",
     "text": [
      "First call:  4.0\n",
      "Saved global:  Traced<ShapedArray(float32[], weak_type=True):JaxprTrace(level=-1/1)>\n"
     ]
    }
   ],
   "source": [
    "g = 0.\n",
    "def impure_saves_global(x):\n",
    "  global g\n",
    "  g = x\n",
    "  return x\n",
    "\n",
    "# JAX runs once the transformed function with special Traced values for arguments\n",
    "print (\"First call: \", jit(impure_saves_global)(4.))\n",
    "print (\"Saved global: \", g)  # Saved global has an internal JAX value"
   ]
  },
  {
   "cell_type": "markdown",
   "metadata": {
    "id": "Mlc2pQlp6v-9"
   },
   "source": [
    "A Python function can be functionally pure even if it actually uses stateful objects internally, as long as it does not read or write external state:"
   ]
  },
  {
   "cell_type": "code",
   "execution_count": null,
   "metadata": {
    "id": "TP-Mqf_862C0",
    "outputId": "78df2d95-2c6f-41c9-84a9-feda6329e75e"
   },
   "outputs": [],
   "source": [
    "def pure_uses_internal_state(x):\n",
    "  state = dict(even=0, odd=0)\n",
    "  for i in range(10):\n",
    "    state['even' if i % 2 == 0 else 'odd'] += x\n",
    "  return state['even'] + state['odd']\n",
    "\n",
    "print(jit(pure_uses_internal_state)(5.))"
   ]
  },
  {
   "cell_type": "markdown",
   "metadata": {},
   "source": [
    "It is not recommended to use iterators in any JAX function you want to `jit` or in any control-flow primitive. The reason is that an iterator is a python object which introduces state to retrieve the next element. Therefore, it is incompatible with JAX functional programming model. In the code below, there are some examples of incorrect attempts to use iterators with JAX. Most of them return an error, but some give unexpected results."
   ]
  },
  {
   "cell_type": "code",
   "execution_count": 1,
   "metadata": {},
   "outputs": [
    {
     "name": "stdout",
     "output_type": "stream",
     "text": [
      "45\n",
      "0\n"
     ]
    },
    {
     "name": "stderr",
     "output_type": "stream",
     "text": [
      "/Users/igor/projects/jax/jax/lib/xla_bridge.py:130: UserWarning: No GPU/TPU found, falling back to CPU.\n",
      "  warnings.warn('No GPU/TPU found, falling back to CPU.')\n"
     ]
    }
   ],
   "source": [
    "import jax.numpy as jnp\n",
    "import jax.lax as lax\n",
    "from jax import make_jaxpr\n",
    "\n",
    "# lax.fori_loop\n",
    "array = jnp.arange(10)\n",
    "print(lax.fori_loop(0, 10, lambda i,x: x+array[i], 0)) # expected result 45\n",
    "iterator = iter(range(10))\n",
    "print(lax.fori_loop(0, 10, lambda i,x: x+next(iterator), 0)) # unexpected result 0\n",
    "\n",
    "# lax.scan\n",
    "def func11(arr, extra):\n",
    "    ones = jnp.ones(arr.shape)  \n",
    "    def body(carry, aelems):\n",
    "        ae1, ae2 = aelems\n",
    "        return (carry + ae1 * ae2 + extra, carry)\n",
    "    return lax.scan(body, 0., (arr, ones))    \n",
    "make_jaxpr(func11)(jnp.arange(16), 5.)\n",
    "# make_jaxpr(func11)(iter(range(16)), 5.) # throws error\n",
    "\n",
    "# lax.cond\n",
    "array_operand = jnp.array([0.])\n",
    "lax.cond(True, lambda x: x+1, lambda x: x-1, array_operand)\n",
    "iter_operand = iter(range(10))\n",
    "# lax.cond(True, lambda x: next(x)+1, lambda x: next(x)-1, iter_operand) # throws error"
   ]
  },
  {
   "cell_type": "markdown",
   "metadata": {
    "id": "oBdKtkVW8Lha"
   },
   "source": [
    "## 🔪 In-Place Updates"
   ]
  },
  {
   "cell_type": "markdown",
   "metadata": {
    "id": "JffAqnEW4JEb"
   },
   "source": [
    "In Numpy you're used to doing this:"
   ]
  },
  {
   "cell_type": "code",
   "execution_count": 125,
   "metadata": {
    "id": "om4xV7_84N9j",
    "outputId": "733f901e-d433-4dc8-b5bb-0c23bf2b1306"
   },
   "outputs": [
    {
     "name": "stdout",
     "output_type": "stream",
     "text": [
      "original array:\n",
      "[[0. 0. 0.]\n",
      " [0. 0. 0.]\n",
      " [0. 0. 0.]]\n",
      "updated array:\n",
      "[[0. 0. 0.]\n",
      " [1. 1. 1.]\n",
      " [0. 0. 0.]]\n"
     ]
    }
   ],
   "source": [
    "numpy_array = np.zeros((3,3), dtype=np.float32)\n",
    "print(\"original array:\")\n",
    "print(numpy_array)\n",
    "\n",
    "# In place, mutating update\n",
    "numpy_array[1, :] = 1.0\n",
    "print(\"updated array:\")\n",
    "print(numpy_array)"
   ]
  },
  {
   "cell_type": "markdown",
   "metadata": {
    "id": "go3L4x3w4-9p"
   },
   "source": [
    "If we try to update a JAX device array in-place, however, we get an __error__!  (☉_☉)"
   ]
  },
  {
   "cell_type": "code",
   "execution_count": 126,
   "metadata": {
    "id": "2AxeCufq4wAp",
    "outputId": "d5d873db-cee0-49dc-981d-ec852347f7ca",
    "tags": [
     "raises-exception"
    ]
   },
   "outputs": [
    {
     "name": "stdout",
     "output_type": "stream",
     "text": [
      "Exception '<class 'jax.interpreters.xla.DeviceArray'>' object does not support item assignment. JAX arrays are immutable; perhaps you want jax.ops.index_update or jax.ops.index_add instead?\n"
     ]
    }
   ],
   "source": [
    "jax_array = jnp.zeros((3,3), dtype=jnp.float32)\n",
    "\n",
    "# In place update of JAX's array will yield an error!\n",
    "try:\n",
    "  jax_array[1, :] = 1.0\n",
    "except Exception as e:\n",
    "  print(\"Exception {}\".format(e))"
   ]
  },
  {
   "cell_type": "markdown",
   "metadata": {
    "id": "7mo76sS25Wco"
   },
   "source": [
    "__What gives?!__  \n",
    "\n",
    "Allowing mutation of variables in-place makes program analysis and transformation very difficult. JAX requires a pure functional expression of a numerical program.  \n",
    "\n",
    "Instead, JAX offers the _functional_ update functions: [__index_update__](https://jax.readthedocs.io/en/latest/_autosummary/jax.ops.index_update.html#jax.ops.index_update), [__index_add__](https://jax.readthedocs.io/en/latest/_autosummary/jax.ops.index_add.html#jax.ops.index_add), [__index_min__](https://jax.readthedocs.io/en/latest/_autosummary/jax.ops.index_min.html#jax.ops.index_min), [__index_max__](https://jax.readthedocs.io/en/latest/_autosummary/jax.ops.index_max.html#jax.ops.index_max), and the [__index__](https://jax.readthedocs.io/en/latest/_autosummary/jax.ops.index.html#jax.ops.index) helper.\n",
    "\n",
    "️⚠️ inside `jit`'d code and `lax.while_loop` or `lax.fori_loop` the __size__ of slices can't be functions of argument _values_ but only functions of argument _shapes_ -- the slice start indices have no such restriction.  See the below __Control Flow__ Section for more information on this limitation."
   ]
  },
  {
   "cell_type": "code",
   "execution_count": 0,
   "metadata": {
    "id": "m5lg1RYq5D9p"
   },
   "outputs": [],
   "source": [
    "from jax.ops import index, index_add, index_update"
   ]
  },
  {
   "cell_type": "markdown",
   "metadata": {
    "id": "X2Xjjvd-l8NL"
   },
   "source": [
    "### index_update"
   ]
  },
  {
   "cell_type": "markdown",
   "metadata": {
    "id": "eM6MyndXL2NY"
   },
   "source": [
    "If the __input values__ of __index_update__ aren't reused, __jit__-compiled code will perform these operations _in-place_."
   ]
  },
  {
   "cell_type": "code",
   "execution_count": 128,
   "metadata": {
    "id": "ygUJT49b7BBk",
    "outputId": "1a3511c4-a480-472f-cccb-5e01620cbe99"
   },
   "outputs": [
    {
     "name": "stdout",
     "output_type": "stream",
     "text": [
      "original array:\n",
      "[[0. 0. 0.]\n",
      " [0. 0. 0.]\n",
      " [0. 0. 0.]]\n",
      "old array unchanged:\n",
      "[[0. 0. 0.]\n",
      " [0. 0. 0.]\n",
      " [0. 0. 0.]]\n",
      "new array:\n",
      "[[0. 0. 0.]\n",
      " [1. 1. 1.]\n",
      " [0. 0. 0.]]\n"
     ]
    }
   ],
   "source": [
    "jax_array = jnp.zeros((3, 3))\n",
    "print(\"original array:\")\n",
    "print(jax_array)\n",
    "\n",
    "new_jax_array = index_update(jax_array, index[1, :], 1.)\n",
    "\n",
    "print(\"old array unchanged:\")\n",
    "print(jax_array)\n",
    "\n",
    "print(\"new array:\")\n",
    "print(new_jax_array)"
   ]
  },
  {
   "cell_type": "markdown",
   "metadata": {
    "id": "7to-sF8EmC_y"
   },
   "source": [
    "### index_add"
   ]
  },
  {
   "cell_type": "markdown",
   "metadata": {
    "id": "iI5cLY1xMBLs"
   },
   "source": [
    "If the __input values__ of __index_update__ aren't reused, __jit__-compiled code will perform these operations _in-place_."
   ]
  },
  {
   "cell_type": "code",
   "execution_count": 129,
   "metadata": {
    "id": "tsw2svao8FUp",
    "outputId": "874acd15-a493-4d63-efe4-9f440d5d2a12"
   },
   "outputs": [
    {
     "name": "stdout",
     "output_type": "stream",
     "text": [
      "original array:\n",
      "[[1. 1. 1. 1. 1. 1.]\n",
      " [1. 1. 1. 1. 1. 1.]\n",
      " [1. 1. 1. 1. 1. 1.]\n",
      " [1. 1. 1. 1. 1. 1.]\n",
      " [1. 1. 1. 1. 1. 1.]]\n",
      "new array post-addition:\n",
      "[[1. 1. 1. 8. 8. 8.]\n",
      " [1. 1. 1. 1. 1. 1.]\n",
      " [1. 1. 1. 8. 8. 8.]\n",
      " [1. 1. 1. 1. 1. 1.]\n",
      " [1. 1. 1. 8. 8. 8.]]\n"
     ]
    }
   ],
   "source": [
    "print(\"original array:\")\n",
    "jax_array = jnp.ones((5, 6))\n",
    "print(jax_array)\n",
    "\n",
    "new_jax_array = index_add(jax_array, index[::2, 3:], 7.)\n",
    "print(\"new array post-addition:\")\n",
    "print(new_jax_array)"
   ]
  },
  {
   "cell_type": "markdown",
   "metadata": {
    "id": "oZ_jE2WAypdL"
   },
   "source": [
    "## 🔪 Out-of-Bounds Indexing"
   ]
  },
  {
   "cell_type": "markdown",
   "metadata": {
    "id": "btRFwEVzypdN"
   },
   "source": [
    "In Numpy, you are used to errors being thrown when you index an array outside of its bounds, like this:"
   ]
  },
  {
   "cell_type": "code",
   "execution_count": 130,
   "metadata": {
    "id": "5_ZM-BJUypdO",
    "outputId": "461f38cd-9452-4bcc-a44f-a07ddfa12f42",
    "tags": [
     "raises-exception"
    ]
   },
   "outputs": [
    {
     "name": "stdout",
     "output_type": "stream",
     "text": [
      "Exception index 11 is out of bounds for axis 0 with size 10\n"
     ]
    }
   ],
   "source": [
    "try:\n",
    "  np.arange(10)[11]\n",
    "except Exception as e:\n",
    "  print(\"Exception {}\".format(e))"
   ]
  },
  {
   "cell_type": "markdown",
   "metadata": {
    "id": "eoXrGARWypdR"
   },
   "source": [
    "However, raising an error on other accelerators can be more difficult. Therefore, JAX does not raise an error, instead the index is clamped to the bounds of the array, meaning that for this example the last value of the array will be returned."
   ]
  },
  {
   "cell_type": "code",
   "execution_count": 131,
   "metadata": {
    "id": "cusaAD0NypdR",
    "outputId": "48428ad6-6cde-43ad-c12d-2eb9b9fe59cf"
   },
   "outputs": [
    {
     "data": {
      "text/plain": [
       "DeviceArray(9, dtype=int32)"
      ]
     },
     "execution_count": 131,
     "metadata": {
      "tags": []
     },
     "output_type": "execute_result"
    }
   ],
   "source": [
    "jnp.arange(10)[11]"
   ]
  },
  {
   "cell_type": "markdown",
   "metadata": {},
   "source": [
    "Note that due to this behavior jnp.nanargmin and jnp.nanargmax return -1 for slices consisting of NaNs whereas Numpy would throw an error."
   ]
  },
  {
   "cell_type": "markdown",
   "metadata": {
    "id": "MUycRNh6e50W"
   },
   "source": [
    "## 🔪 Random Numbers"
   ]
  },
  {
   "cell_type": "markdown",
   "metadata": {
    "id": "O8vvaVt3MRG2"
   },
   "source": [
    "> _If all scientific papers whose results are in doubt because of bad \n",
    "> `rand()`s were to disappear from library shelves, there would be a \n",
    "> gap on each shelf about as big as your fist._ - Numerical Recipes"
   ]
  },
  {
   "cell_type": "markdown",
   "metadata": {
    "id": "Qikt9pPW9L5K"
   },
   "source": [
    "### RNGs and State\n",
    "You're used to _stateful_ pseudorandom number generators (PRNGs) from numpy and other libraries, which helpfully hide a lot of details under the hood to give you a ready fountain of pseudorandomness:"
   ]
  },
  {
   "cell_type": "code",
   "execution_count": 132,
   "metadata": {
    "id": "rr9FeP41fynt",
    "outputId": "849d84cf-04ad-4e8b-9505-a92f6c0d7a39"
   },
   "outputs": [
    {
     "name": "stdout",
     "output_type": "stream",
     "text": [
      "0.08960303423860538\n",
      "0.6720478073539145\n",
      "0.24536720985284477\n"
     ]
    }
   ],
   "source": [
    "print(np.random.random())\n",
    "print(np.random.random())\n",
    "print(np.random.random())"
   ]
  },
  {
   "cell_type": "markdown",
   "metadata": {
    "id": "ORMVVGZJgSVi"
   },
   "source": [
    "Underneath the hood, numpy uses the [Mersenne Twister](https://en.wikipedia.org/wiki/Mersenne_Twister) PRNG to power its pseudorandom functions.  The PRNG has a period of $2^{19937}-1$ and at any point can be described by __624 32bit unsigned ints__ and a __position__ indicating how much of this  \"entropy\" has been used up."
   ]
  },
  {
   "cell_type": "code",
   "execution_count": 0,
   "metadata": {
    "id": "7Pyp2ajzfPO2"
   },
   "outputs": [],
   "source": [
    "np.random.seed(0)\n",
    "rng_state = np.random.get_state()\n",
    "#print(rng_state)\n",
    "# --> ('MT19937', array([0, 1, 1812433255, 1900727105, 1208447044,\n",
    "#       2481403966, 4042607538,  337614300, ... 614 more numbers..., \n",
    "#       3048484911, 1796872496], dtype=uint32), 624, 0, 0.0)"
   ]
  },
  {
   "cell_type": "markdown",
   "metadata": {
    "id": "aJIxHVXCiM6m"
   },
   "source": [
    "This pseudorandom state vector is automagically updated behind the scenes every time a random number is needed, \"consuming\" 2 of the uint32s in the Mersenne twister state vector:"
   ]
  },
  {
   "cell_type": "code",
   "execution_count": 0,
   "metadata": {
    "id": "GAHaDCYafpAF"
   },
   "outputs": [],
   "source": [
    "_ = np.random.uniform()\n",
    "rng_state = np.random.get_state()\n",
    "#print(rng_state) \n",
    "# --> ('MT19937', array([2443250962, 1093594115, 1878467924,\n",
    "#       ..., 2648828502, 1678096082], dtype=uint32), 2, 0, 0.0)\n",
    "\n",
    "# Let's exhaust the entropy in this PRNG statevector\n",
    "for i in range(311):\n",
    "  _ = np.random.uniform()\n",
    "rng_state = np.random.get_state()\n",
    "#print(rng_state) \n",
    "# --> ('MT19937', array([2443250962, 1093594115, 1878467924,\n",
    "#       ..., 2648828502, 1678096082], dtype=uint32), 624, 0, 0.0)\n",
    "\n",
    "# Next call iterates the RNG state for a new batch of fake \"entropy\".\n",
    "_ = np.random.uniform()\n",
    "rng_state = np.random.get_state()\n",
    "# print(rng_state) \n",
    "# --> ('MT19937', array([1499117434, 2949980591, 2242547484, \n",
    "#      4162027047, 3277342478], dtype=uint32), 2, 0, 0.0)"
   ]
  },
  {
   "cell_type": "markdown",
   "metadata": {
    "id": "N_mWnleNogps"
   },
   "source": [
    "The problem with magic PRNG state is that it's hard to reason about how it's being used and updated across different threads, processes, and devices, and it's _very easy_ to screw up when the details of entropy production and consumption are hidden from the end user.\n",
    "\n",
    "The Mersenne Twister PRNG is also known to have a [number](https://cs.stackexchange.com/a/53475) of problems, it has a large 2.5Kb state size, which leads to problematic [initialization issues](https://dl.acm.org/citation.cfm?id=1276928).  It [fails](http://www.pcg-random.org/pdf/toms-oneill-pcg-family-v1.02.pdf) modern BigCrush tests, and is generally slow."
   ]
  },
  {
   "cell_type": "markdown",
   "metadata": {
    "id": "Uvq7nV-j4vKK"
   },
   "source": [
    "### JAX PRNG"
   ]
  },
  {
   "cell_type": "markdown",
   "metadata": {
    "id": "COjzGBpO4tzL"
   },
   "source": [
    "JAX instead implements an _explicit_ PRNG where entropy production and consumption are handled by explicitly passing and iterating PRNG state.  JAX uses a modern [Threefry counter-based PRNG](https://github.com/google/jax/blob/master/design_notes/prng.md) that's __splittable__.  That is, its design allows us to __fork__ the PRNG state into new PRNGs for use with parallel stochastic generation.\n",
    "\n",
    "The random state is described by two unsigned-int32s that we call a __key__:"
   ]
  },
  {
   "cell_type": "code",
   "execution_count": 135,
   "metadata": {
    "id": "yPHE7KTWgAWs",
    "outputId": "329e7757-2461-434c-a08c-fde80a2d10c9"
   },
   "outputs": [
    {
     "data": {
      "text/plain": [
       "DeviceArray([0, 0], dtype=uint32)"
      ]
     },
     "execution_count": 135,
     "metadata": {
      "tags": []
     },
     "output_type": "execute_result"
    }
   ],
   "source": [
    "from jax import random\n",
    "key = random.PRNGKey(0)\n",
    "key"
   ]
  },
  {
   "cell_type": "markdown",
   "metadata": {
    "id": "XjYyWYNfq0hW"
   },
   "source": [
    "JAX's random functions produce pseudorandom numbers from the PRNG state, but __do not__ change the state!  \n",
    "\n",
    "Reusing the same state will cause __sadness__ and __monotony__, depriving the enduser of __lifegiving chaos__:"
   ]
  },
  {
   "cell_type": "code",
   "execution_count": 136,
   "metadata": {
    "id": "7zUdQMynoE5e",
    "outputId": "50617324-b887-42f2-a7ff-2a10f92d876a"
   },
   "outputs": [
    {
     "name": "stdout",
     "output_type": "stream",
     "text": [
      "[-0.20584226]\n",
      "[0 0]\n",
      "[-0.20584226]\n",
      "[0 0]\n"
     ]
    }
   ],
   "source": [
    "print(random.normal(key, shape=(1,)))\n",
    "print(key)\n",
    "# No no no!\n",
    "print(random.normal(key, shape=(1,)))\n",
    "print(key)"
   ]
  },
  {
   "cell_type": "markdown",
   "metadata": {
    "id": "hQN9van8rJgd"
   },
   "source": [
    "Instead, we __split__ the PRNG to get usable __subkeys__ every time we need a new pseudorandom number:"
   ]
  },
  {
   "cell_type": "code",
   "execution_count": 137,
   "metadata": {
    "id": "ASj0_rSzqgGh",
    "outputId": "bcc2ed60-2e41-4ef8-e84f-c724654aa198"
   },
   "outputs": [
    {
     "name": "stdout",
     "output_type": "stream",
     "text": [
      "old key [0 0]\n",
      "    \\---SPLIT --> new key    [4146024105  967050713]\n",
      "             \\--> new subkey [2718843009 1272950319] --> normal [-1.2515389]\n"
     ]
    }
   ],
   "source": [
    "print(\"old key\", key)\n",
    "key, subkey = random.split(key)\n",
    "normal_pseudorandom = random.normal(subkey, shape=(1,))\n",
    "print(\"    \\---SPLIT --> new key   \", key)\n",
    "print(\"             \\--> new subkey\", subkey, \"--> normal\", normal_pseudorandom)"
   ]
  },
  {
   "cell_type": "markdown",
   "metadata": {
    "id": "tqtFVE4MthO3"
   },
   "source": [
    "We propagate the __key__ and make new __subkeys__ whenever we need a new random number:"
   ]
  },
  {
   "cell_type": "code",
   "execution_count": 138,
   "metadata": {
    "id": "jbC34XLor2Ek",
    "outputId": "6834a812-7160-4646-ee19-a246f683905a"
   },
   "outputs": [
    {
     "name": "stdout",
     "output_type": "stream",
     "text": [
      "old key [4146024105  967050713]\n",
      "    \\---SPLIT --> new key    [2384771982 3928867769]\n",
      "             \\--> new subkey [1278412471 2182328957] --> normal [-0.58665055]\n"
     ]
    }
   ],
   "source": [
    "print(\"old key\", key)\n",
    "key, subkey = random.split(key)\n",
    "normal_pseudorandom = random.normal(subkey, shape=(1,))\n",
    "print(\"    \\---SPLIT --> new key   \", key)\n",
    "print(\"             \\--> new subkey\", subkey, \"--> normal\", normal_pseudorandom)"
   ]
  },
  {
   "cell_type": "markdown",
   "metadata": {
    "id": "0KLYUluz3lN3"
   },
   "source": [
    "We can generate more than one __subkey__ at a time:"
   ]
  },
  {
   "cell_type": "code",
   "execution_count": 139,
   "metadata": {
    "id": "lEi08PJ4tfkX",
    "outputId": "3bb513de-8d14-4d37-ae57-51d6f5eaa762"
   },
   "outputs": [
    {
     "name": "stdout",
     "output_type": "stream",
     "text": [
      "[-0.37533438]\n",
      "[0.98645043]\n",
      "[0.14553197]\n"
     ]
    }
   ],
   "source": [
    "key, *subkeys = random.split(key, 4)\n",
    "for subkey in subkeys:\n",
    "  print(random.normal(subkey, shape=(1,)))"
   ]
  },
  {
   "cell_type": "markdown",
   "metadata": {
    "id": "rg4CpMZ8c3ri"
   },
   "source": [
    "## 🔪 Control Flow"
   ]
  },
  {
   "cell_type": "markdown",
   "metadata": {
    "id": "izLTvT24dAq0"
   },
   "source": [
    "### ✔ python control_flow + autodiff ✔\n",
    "\n",
    "If you just want to apply `grad` to your python functions, you can use regular python control-flow constructs with no problems, as if you were using [Autograd](https://github.com/hips/autograd) (or Pytorch or TF Eager)."
   ]
  },
  {
   "cell_type": "code",
   "execution_count": 140,
   "metadata": {
    "id": "aAx0T3F8lLtu",
    "outputId": "808cfa77-d924-4586-af19-35a8fd7d2238"
   },
   "outputs": [
    {
     "name": "stdout",
     "output_type": "stream",
     "text": [
      "12.0\n",
      "-4.0\n"
     ]
    }
   ],
   "source": [
    "def f(x):\n",
    "  if x < 3:\n",
    "    return 3. * x ** 2\n",
    "  else:\n",
    "    return -4 * x\n",
    "\n",
    "print(grad(f)(2.))  # ok!\n",
    "print(grad(f)(4.))  # ok!"
   ]
  },
  {
   "cell_type": "markdown",
   "metadata": {
    "id": "hIfPT7WMmZ2H"
   },
   "source": [
    "### python control flow + JIT\n",
    "\n",
    "Using control flow with `jit` is more complicated, and by default it has more constraints.\n",
    "\n",
    "This works:"
   ]
  },
  {
   "cell_type": "code",
   "execution_count": 141,
   "metadata": {
    "id": "OZ_BJX0CplNC",
    "outputId": "48ce004c-536a-44f5-b020-9267825e7e4d"
   },
   "outputs": [
    {
     "name": "stdout",
     "output_type": "stream",
     "text": [
      "24\n"
     ]
    }
   ],
   "source": [
    "@jit\n",
    "def f(x):\n",
    "  for i in range(3):\n",
    "    x = 2 * x\n",
    "  return x\n",
    "\n",
    "print(f(3))"
   ]
  },
  {
   "cell_type": "markdown",
   "metadata": {
    "id": "22RzeJ4QqAuX"
   },
   "source": [
    "So does this:"
   ]
  },
  {
   "cell_type": "code",
   "execution_count": 142,
   "metadata": {
    "id": "pinVnmRWp6w6",
    "outputId": "e3e6f2f7-ba59-4a98-cdfc-905c91b38ed1"
   },
   "outputs": [
    {
     "name": "stdout",
     "output_type": "stream",
     "text": [
      "6.0\n"
     ]
    }
   ],
   "source": [
    "@jit\n",
    "def g(x):\n",
    "  y = 0.\n",
    "  for i in range(x.shape[0]):\n",
    "    y = y + x[i]\n",
    "  return y\n",
    "\n",
    "print(g(jnp.array([1., 2., 3.])))"
   ]
  },
  {
   "cell_type": "markdown",
   "metadata": {
    "id": "TStltU2dqf8A"
   },
   "source": [
    "But this doesn't, at least by default:"
   ]
  },
  {
   "cell_type": "code",
   "execution_count": 143,
   "metadata": {
    "id": "9z38AIKclRNM",
    "outputId": "466730dd-df8b-4b80-ac5e-e55b5ea85ec7"
   },
   "outputs": [
    {
     "name": "stdout",
     "output_type": "stream",
     "text": [
      "Exception Abstract value passed to `bool`, which requires a concrete value. The function to be transformed can't be traced at the required level of abstraction. If using `jit`, try using `static_argnums` or applying `jit` to smaller subfunctions instead.\n"
     ]
    }
   ],
   "source": [
    "@jit\n",
    "def f(x):\n",
    "  if x < 3:\n",
    "    return 3. * x ** 2\n",
    "  else:\n",
    "    return -4 * x\n",
    "\n",
    "# This will fail!\n",
    "try:\n",
    "  f(2)\n",
    "except Exception as e:\n",
    "  print(\"Exception {}\".format(e))"
   ]
  },
  {
   "cell_type": "markdown",
   "metadata": {
    "id": "pIbr4TVPqtDN"
   },
   "source": [
    "__What gives!?__\n",
    "\n",
    "When we `jit`-compile a function, we usually want to compile a version of the function that works for many different argument values, so that we can cache and reuse the compiled code. That way we don't have to re-compile on each function evaluation.\n",
    "\n",
    "For example, if we evaluate an `@jit` function on the array `jnp.array([1., 2., 3.], jnp.float32)`, we might want to compile code that we can reuse to evaluate the function on `jnp.array([4., 5., 6.], jnp.float32)` to save on compile time.\n",
    "\n",
    "To get a view of your Python code that is valid for many different argument values, JAX traces it on _abstract values_ that represent sets of possible inputs. There are [multiple different levels of abstraction](https://github.com/google/jax/blob/master/jax/abstract_arrays.py), and different transformations use different abstraction levels.\n",
    "\n",
    "By default, `jit` traces your code on the `ShapedArray` abstraction level, where each abstract value represents the set of all array values with a fixed shape and dtype. For example, if we trace using the abstract value `ShapedArray((3,), jnp.float32)`, we get a view of the function that can be reused for any concrete value in the corresponding set of arrays. That means we can save on compile time.\n",
    "\n",
    "But there's a tradeoff here: if we trace a Python function on a `ShapedArray((), jnp.float32)` that isn't committed to a specific concrete value, when we hit a line like `if x < 3`, the expression `x < 3` evaluates to an abstract `ShapedArray((), jnp.bool_)` that represents the set `{True, False}`. When Python attempts to coerce that to a concrete `True` or `False`, we get an error: we don't know which branch to take, and can't continue tracing! The tradeoff is that with higher levels of abstraction we gain a more general view of the Python code (and thus save on re-compilations), but we require more constraints on the Python code to complete the trace.\n",
    "\n",
    "The good news is that you can control this tradeoff yourself. By having `jit` trace on more refined abstract values, you can relax the traceability constraints. For example, using the `static_argnums` argument to `jit`, we can specify to trace on concrete values of some arguments. Here's that example function again:"
   ]
  },
  {
   "cell_type": "code",
   "execution_count": 144,
   "metadata": {
    "id": "-Tzp0H7Bt1Sn",
    "outputId": "aba57a88-d8eb-40b0-ff22-7c266d892b13"
   },
   "outputs": [
    {
     "name": "stdout",
     "output_type": "stream",
     "text": [
      "12.0\n"
     ]
    }
   ],
   "source": [
    "def f(x):\n",
    "  if x < 3:\n",
    "    return 3. * x ** 2\n",
    "  else:\n",
    "    return -4 * x\n",
    "\n",
    "f = jit(f, static_argnums=(0,))\n",
    "\n",
    "print(f(2.))"
   ]
  },
  {
   "cell_type": "markdown",
   "metadata": {
    "id": "MHm1hIQAvBVs"
   },
   "source": [
    "Here's another example, this time involving a loop:"
   ]
  },
  {
   "cell_type": "code",
   "execution_count": 145,
   "metadata": {
    "id": "iwY86_JKvD6b",
    "outputId": "1ec847ea-df2b-438d-c0a1-fabf7b93b73d"
   },
   "outputs": [
    {
     "data": {
      "text/plain": [
       "DeviceArray(5., dtype=float32)"
      ]
     },
     "execution_count": 145,
     "metadata": {
      "tags": []
     },
     "output_type": "execute_result"
    }
   ],
   "source": [
    "def f(x, n):\n",
    "  y = 0.\n",
    "  for i in range(n):\n",
    "    y = y + x[i]\n",
    "  return y\n",
    "\n",
    "f = jit(f, static_argnums=(1,))\n",
    "\n",
    "f(jnp.array([2., 3., 4.]), 2)"
   ]
  },
  {
   "cell_type": "markdown",
   "metadata": {
    "id": "nSPTOX8DvOeO"
   },
   "source": [
    "In effect, the loop gets statically unrolled.  JAX can also trace at _higher_ levels of abstraction, like `Unshaped`, but that's not currently the default for any transformation"
   ]
  },
  {
   "cell_type": "markdown",
   "metadata": {
    "id": "wWdg8LTYwCW3"
   },
   "source": [
    "️⚠️ **functions with argument-__value__ dependent shapes**\n",
    "\n",
    "These control-flow issues also come up in a more subtle way: numerical functions we want to __jit__ can't specialize the shapes of internal arrays on argument _values_ (specializing on argument __shapes__ is ok).  As a trivial example, let's make a function whose output happens to depend on the input variable `length`."
   ]
  },
  {
   "cell_type": "code",
   "execution_count": 146,
   "metadata": {
    "id": "Tqe9uLmUI_Gv",
    "outputId": "fe319758-9959-434c-ab9d-0926e599dbc0"
   },
   "outputs": [
    {
     "name": "stdout",
     "output_type": "stream",
     "text": [
      "[4. 4. 4. 4. 4.]\n",
      "Exception Shapes must be 1D sequences of concrete values of integer type, got (Traced<ShapedArray(int32[], weak_type=True):JaxprTrace(level=-1/1)>,).\n",
      "If using `jit`, try using `static_argnums` or applying `jit` to smaller subfunctions.\n",
      "[4. 4. 4. 4. 4. 4. 4. 4. 4. 4.]\n",
      "[4. 4. 4. 4. 4.]\n"
     ]
    }
   ],
   "source": [
    "def example_fun(length, val):\n",
    "  return jnp.ones((length,)) * val\n",
    "# un-jit'd works fine\n",
    "print(example_fun(5, 4))\n",
    "\n",
    "bad_example_jit = jit(example_fun)\n",
    "# this will fail:\n",
    "try:\n",
    "  print(bad_example_jit(10, 4))\n",
    "except Exception as e:\n",
    "  print(\"Exception {}\".format(e))\n",
    "# static_argnums tells JAX to recompile on changes at these argument positions:\n",
    "good_example_jit = jit(example_fun, static_argnums=(0,))\n",
    "# first compile\n",
    "print(good_example_jit(10, 4))\n",
    "# recompiles\n",
    "print(good_example_jit(5, 4))"
   ]
  },
  {
   "cell_type": "markdown",
   "metadata": {
    "id": "MStx_r2oKxpp"
   },
   "source": [
    "`static_argnums` can be handy if `length` in our example rarely changes, but it would be disastrous if it changed a lot!  \n",
    "\n",
    "Lastly, if your function has global side-effects, JAX's tracer can cause weird things to happen. A common gotcha is trying to print arrays inside __jit__'d functions:"
   ]
  },
  {
   "cell_type": "code",
   "execution_count": 147,
   "metadata": {
    "id": "m2ABpRd8K094",
    "outputId": "64da37a0-aa06-46a3-e975-88c676c5b9fa"
   },
   "outputs": [
    {
     "name": "stdout",
     "output_type": "stream",
     "text": [
      "Traced<ShapedArray(int32[], weak_type=True):JaxprTrace(level=-1/1)>\n",
      "Traced<ShapedArray(int32[]):JaxprTrace(level=-1/1)>\n"
     ]
    },
    {
     "data": {
      "text/plain": [
       "DeviceArray(4, dtype=int32)"
      ]
     },
     "execution_count": 147,
     "metadata": {
      "tags": []
     },
     "output_type": "execute_result"
    }
   ],
   "source": [
    "@jit\n",
    "def f(x):\n",
    "  print(x)\n",
    "  y = 2 * x\n",
    "  print(y)\n",
    "  return y\n",
    "f(2)"
   ]
  },
  {
   "cell_type": "markdown",
   "metadata": {
    "id": "uCDcWG4MnVn-"
   },
   "source": [
    "### Structured control flow primitives\n",
    "\n",
    "There are more options for control flow in JAX. Say you want to avoid re-compilations but still want to use control flow that's traceable, and that avoids un-rolling large loops. Then you can use these 4 structured control flow primitives:\n",
    "\n",
    " - `lax.cond`  _differentiable_\n",
    " - `lax.while_loop` __fwd-mode-differentiable__\n",
    " - `lax.fori_loop` __fwd-mode-differentiable__\n",
    " - `lax.scan` _differentiable_"
   ]
  },
  {
   "cell_type": "markdown",
   "metadata": {
    "id": "Sd9xrLMXeK3A"
   },
   "source": [
    "#### cond\n",
    "python equivalent:\n",
    "\n",
    "```python\n",
    "def cond(pred, true_fun, false_fun, operand):\n",
    "  if pred:\n",
    "    return true_fun(operand)\n",
    "  else:\n",
    "    return false_fun(operand)\n",
    "```"
   ]
  },
  {
   "cell_type": "code",
   "execution_count": 148,
   "metadata": {
    "id": "SGxz9JOWeiyH",
    "outputId": "b29da06c-037f-4b05-dbd8-ba52ac35a8cf"
   },
   "outputs": [
    {
     "data": {
      "text/plain": [
       "DeviceArray([-1.], dtype=float32)"
      ]
     },
     "execution_count": 148,
     "metadata": {
      "tags": []
     },
     "output_type": "execute_result"
    }
   ],
   "source": [
    "from jax import lax\n",
    "\n",
    "operand = jnp.array([0.])\n",
    "lax.cond(True, lambda x: x+1, lambda x: x-1, operand)\n",
    "# --> array([1.], dtype=float32)\n",
    "lax.cond(False, lambda x: x+1, lambda x: x-1, operand)\n",
    "# --> array([-1.], dtype=float32)"
   ]
  },
  {
   "cell_type": "markdown",
   "metadata": {
    "id": "xkOFAw24eOMg"
   },
   "source": [
    "#### while_loop\n",
    "\n",
    "python equivalent:\n",
    "```\n",
    "def while_loop(cond_fun, body_fun, init_val):\n",
    "  val = init_val\n",
    "  while cond_fun(val):\n",
    "    val = body_fun(val)\n",
    "  return val\n",
    "```"
   ]
  },
  {
   "cell_type": "code",
   "execution_count": 149,
   "metadata": {
    "id": "jM-D39a-c436",
    "outputId": "b9c97167-fecf-4559-9ca7-1cb0235d8ad2"
   },
   "outputs": [
    {
     "data": {
      "text/plain": [
       "DeviceArray(10, dtype=int32)"
      ]
     },
     "execution_count": 149,
     "metadata": {
      "tags": []
     },
     "output_type": "execute_result"
    }
   ],
   "source": [
    "init_val = 0\n",
    "cond_fun = lambda x: x<10\n",
    "body_fun = lambda x: x+1\n",
    "lax.while_loop(cond_fun, body_fun, init_val)\n",
    "# --> array(10, dtype=int32)"
   ]
  },
  {
   "cell_type": "markdown",
   "metadata": {
    "id": "apo3n3HAeQY_"
   },
   "source": [
    "#### fori_loop\n",
    "python equivalent:\n",
    "```\n",
    "def fori_loop(start, stop, body_fun, init_val):\n",
    "  val = init_val\n",
    "  for i in range(start, stop):\n",
    "    val = body_fun(i, val)\n",
    "  return val\n",
    "```"
   ]
  },
  {
   "cell_type": "code",
   "execution_count": 150,
   "metadata": {
    "id": "dt3tUpOmeR8u",
    "outputId": "864f2959-2429-4666-b364-4baf90a57482"
   },
   "outputs": [
    {
     "data": {
      "text/plain": [
       "DeviceArray(45, dtype=int32)"
      ]
     },
     "execution_count": 150,
     "metadata": {
      "tags": []
     },
     "output_type": "execute_result"
    }
   ],
   "source": [
    "init_val = 0\n",
    "start = 0\n",
    "stop = 10\n",
    "body_fun = lambda i,x: x+i\n",
    "lax.fori_loop(start, stop, body_fun, init_val)\n",
    "# --> array(45, dtype=int32)"
   ]
  },
  {
   "cell_type": "markdown",
   "metadata": {
    "id": "SipXS5qiqk8e"
   },
   "source": [
    "#### Summary\n",
    "\n",
    "$$\n",
    "\\begin{array} {r|rr} \n",
    "\\hline \\\n",
    "\\textrm{construct} \n",
    "& \\textrm{jit} \n",
    "& \\textrm{grad} \\\\\n",
    "\\hline \\\n",
    "\\textrm{if} & ❌ & ✔ \\\\\n",
    "\\textrm{for} & ✔* & ✔\\\\\n",
    "\\textrm{while} & ✔* & ✔\\\\\n",
    "\\textrm{lax.cond} & ✔ & ✔\\\\\n",
    "\\textrm{lax.while_loop} & ✔ & \\textrm{fwd}\\\\\n",
    "\\textrm{lax.fori_loop} & ✔ & \\textrm{fwd}\\\\\n",
    "\\textrm{lax.scan} & ✔ & ✔\\\\\n",
    "\\hline\n",
    "\\end{array}\n",
    "$$\n",
    "<center>$\\ast$ = argument-__value__-independent loop condition - unrolls the loop </center>"
   ]
  },
  {
   "cell_type": "markdown",
   "metadata": {
    "id": "DKTMw6tRZyK2"
   },
   "source": [
    "## 🔪 NaNs"
   ]
  },
  {
   "cell_type": "markdown",
   "metadata": {
    "id": "ncS0NI4jZrwy"
   },
   "source": [
    "### Debugging NaNs\n",
    "\n",
    "If you want to trace where NaNs are occurring in your functions or gradients, you can turn on the NaN-checker by:\n",
    "\n",
    "* setting the `JAX_DEBUG_NANS=True` environment variable;\n",
    "\n",
    "* adding `from jax.config import config` and `config.update(\"jax_debug_nans\", True)` near the top of your main file;\n",
    "\n",
    "* adding `from jax.config import config` and `config.parse_flags_with_absl()` to your main file, then set the option using a command-line flag like `--jax_debug_nans=True`;\n",
    "\n",
    "This will cause computations to error-out immediately on production of a NaN. Switching this option on adds a nan check to every floating point type value produced by XLA. That means values are pulled back to the host and checked as ndarrays for every primitive operation not under an `@jit`. For code under an `@jit`, the output of every `@jit` function is checked and if a nan is present it will re-run the function in de-optimized op-by-op mode, effectively removing one level of `@jit` at a time.\n",
    "\n",
    "There could be tricky situations that arise, like nans that only occur under a `@jit` but don't get produced in de-optimized mode. In that case you'll see a warning message print out but your code will continue to execute.\n",
    "\n",
    "If the nans are being produced in the backward pass of a gradient evaluation, when an exception is raised several frames up in the stack trace you will be in the backward_pass function, which is essentially a simple jaxpr interpreter that walks the sequence of primitive operations in reverse. In the example below, we started an ipython repl with the command line `env JAX_DEBUG_NANS=True ipython`, then ran this:"
   ]
  },
  {
   "cell_type": "markdown",
   "metadata": {},
   "source": [
    "```\n",
    "In [1]: import jax.numpy as jnp\n",
    "\n",
    "In [2]: jnp.divide(0., 0.)\n",
    "---------------------------------------------------------------------------\n",
    "FloatingPointError                        Traceback (most recent call last)\n",
    "<ipython-input-2-f2e2c413b437> in <module>()\n",
    "----> 1 jnp.divide(0., 0.)\n",
    "\n",
    ".../jax/jax/numpy/lax_numpy.pyc in divide(x1, x2)\n",
    "    343     return floor_divide(x1, x2)\n",
    "    344   else:\n",
    "--> 345     return true_divide(x1, x2)\n",
    "    346\n",
    "    347\n",
    "\n",
    ".../jax/jax/numpy/lax_numpy.pyc in true_divide(x1, x2)\n",
    "    332   x1, x2 = _promote_shapes(x1, x2)\n",
    "    333   return lax.div(lax.convert_element_type(x1, result_dtype),\n",
    "--> 334                  lax.convert_element_type(x2, result_dtype))\n",
    "    335\n",
    "    336\n",
    "\n",
    ".../jax/jax/lax.pyc in div(x, y)\n",
    "    244 def div(x, y):\n",
    "    245   r\"\"\"Elementwise division: :math:`x \\over y`.\"\"\"\n",
    "--> 246   return div_p.bind(x, y)\n",
    "    247\n",
    "    248 def rem(x, y):\n",
    "\n",
    "... stack trace ...\n",
    "\n",
    ".../jax/jax/interpreters/xla.pyc in handle_result(device_buffer)\n",
    "    103         py_val = device_buffer.to_py()\n",
    "    104         if np.any(np.isnan(py_val)):\n",
    "--> 105           raise FloatingPointError(\"invalid value\")\n",
    "    106         else:\n",
    "    107           return DeviceArray(device_buffer, *result_shape)\n",
    "\n",
    "FloatingPointError: invalid value\n",
    "```"
   ]
  },
  {
   "cell_type": "markdown",
   "metadata": {},
   "source": [
    "The nan generated was caught. By running `%debug`, we can get a post-mortem debugger. This also works with functions under `@jit`, as the example below shows."
   ]
  },
  {
   "cell_type": "markdown",
   "metadata": {},
   "source": [
    "```\n",
    "In [4]: from jax import jit\n",
    "\n",
    "In [5]: @jit\n",
    "   ...: def f(x, y):\n",
    "   ...:     a = x * y\n",
    "   ...:     b = (x + y) / (x - y)\n",
    "   ...:     c = a + 2\n",
    "   ...:     return a + b * c\n",
    "   ...:\n",
    "\n",
    "In [6]: x = jnp.array([2., 0.])\n",
    "\n",
    "In [7]: y = jnp.array([3., 0.])\n",
    "\n",
    "In [8]: f(x, y)\n",
    "Invalid value encountered in the output of a jit function. Calling the de-optimized version.\n",
    "---------------------------------------------------------------------------\n",
    "FloatingPointError                        Traceback (most recent call last)\n",
    "<ipython-input-8-811b7ddb3300> in <module>()\n",
    "----> 1 f(x, y)\n",
    "\n",
    " ... stack trace ...\n",
    "\n",
    "<ipython-input-5-619b39acbaac> in f(x, y)\n",
    "      2 def f(x, y):\n",
    "      3     a = x * y\n",
    "----> 4     b = (x + y) / (x - y)\n",
    "      5     c = a + 2\n",
    "      6     return a + b * c\n",
    "\n",
    ".../jax/jax/numpy/lax_numpy.pyc in divide(x1, x2)\n",
    "    343     return floor_divide(x1, x2)\n",
    "    344   else:\n",
    "--> 345     return true_divide(x1, x2)\n",
    "    346\n",
    "    347\n",
    "\n",
    ".../jax/jax/numpy/lax_numpy.pyc in true_divide(x1, x2)\n",
    "    332   x1, x2 = _promote_shapes(x1, x2)\n",
    "    333   return lax.div(lax.convert_element_type(x1, result_dtype),\n",
    "--> 334                  lax.convert_element_type(x2, result_dtype))\n",
    "    335\n",
    "    336\n",
    "\n",
    ".../jax/jax/lax.pyc in div(x, y)\n",
    "    244 def div(x, y):\n",
    "    245   r\"\"\"Elementwise division: :math:`x \\over y`.\"\"\"\n",
    "--> 246   return div_p.bind(x, y)\n",
    "    247\n",
    "    248 def rem(x, y):\n",
    "\n",
    " ... stack trace ...\n",
    "```"
   ]
  },
  {
   "cell_type": "markdown",
   "metadata": {},
   "source": [
    "When this code sees a nan in the output of an `@jit` function, it calls into the de-optimized code, so we still get a clear stack trace. And we can run a post-mortem debugger with `%debug` to inspect all the values to figure out the error.\n",
    "\n",
    "⚠️ You shouldn't have the NaN-checker on if you're not debugging, as it can introduce lots of device-host round-trips and performance regressions!"
   ]
  },
  {
   "cell_type": "markdown",
   "metadata": {
    "id": "YTktlwTTMgFl"
   },
   "source": [
    "## Double (64bit) precision\n",
    "\n",
    "At the moment, JAX by default enforces single-precision numbers to mitigate the Numpy API's tendency to aggressively promote operands to `double`.  This is the desired behavior for many machine-learning applications, but it may catch you by surprise!"
   ]
  },
  {
   "cell_type": "code",
   "execution_count": 164,
   "metadata": {
    "id": "CNNGtzM3NDkO",
    "outputId": "d1384021-d9bf-450f-a9ae-82024fa5fc1a"
   },
   "outputs": [
    {
     "data": {
      "text/plain": [
       "dtype('float32')"
      ]
     },
     "execution_count": 164,
     "metadata": {
      "tags": []
     },
     "output_type": "execute_result"
    }
   ],
   "source": [
    "x = random.uniform(random.PRNGKey(0), (1000,), dtype=jnp.float64)\n",
    "x.dtype"
   ]
  },
  {
   "cell_type": "markdown",
   "metadata": {
    "id": "VcvqzobxNPbd"
   },
   "source": [
    "To use double-precision numbers, you need to set the `jax_enable_x64` configuration variable __at startup__.  \n",
    "\n",
    "There are a few ways to do this:\n",
    "\n",
    "1. You can enable 64bit mode by setting the environment variable `JAX_ENABLE_X64=True`.\n",
    "\n",
    "2. You can manually set the `jax_enable_x64` configuration flag at startup:\n",
    "\n",
    "   ```python\n",
    "   # again, this only works on startup!\n",
    "   from jax.config import config\n",
    "   config.update(\"jax_enable_x64\", True)\n",
    "   ```\n",
    "\n",
    "3. You can parse command-line flags with `absl.app.run(main)`\n",
    "\n",
    "   ```python\n",
    "   from jax.config import config\n",
    "   config.config_with_absl()\n",
    "   ```\n",
    "\n",
    "4. If you want JAX to run absl parsing for you, i.e. you don't want to do `absl.app.run(main)`, you can instead use\n",
    "\n",
    "   ```python\n",
    "   from jax.config import config\n",
    "   if __name__ == '__main__':\n",
    "     # calls config.config_with_absl() *and* runs absl parsing\n",
    "     config.parse_flags_with_absl()\n",
    "   ```\n",
    "\n",
    "Note that #2-#4 work for _any_ of JAX's configuration options.\n",
    "\n",
    "We can then confirm that `x64` mode is enabled:"
   ]
  },
  {
   "cell_type": "code",
   "execution_count": 165,
   "metadata": {
    "id": "HqGbBa9Rr-2g",
    "outputId": "cd241d63-3d00-4fd7-f9c0-afc6af01ecf4"
   },
   "outputs": [
    {
     "data": {
      "text/plain": [
       "dtype('float32')"
      ]
     },
     "execution_count": 165,
     "metadata": {
      "tags": []
     },
     "output_type": "execute_result"
    }
   ],
   "source": [
    "import jax.numpy as jnp\n",
    "from jax import random\n",
    "x = random.uniform(random.PRNGKey(0), (1000,), dtype=jnp.float64)\n",
    "x.dtype # --> dtype('float64')"
   ]
  },
  {
   "cell_type": "markdown",
   "metadata": {
    "id": "6Cks2_gKsXaW"
   },
   "source": [
    "### Caveats\n",
    "⚠️ XLA doesn't support 64-bit convolutions on all backends!"
   ]
  },
  {
   "cell_type": "markdown",
   "metadata": {
    "id": "WAHjmL0E2XwO"
   },
   "source": [
    "## Fin.\n",
    "\n",
    "If something's not covered here that has caused you weeping and gnashing of teeth, please let us know and we'll extend these introductory _advisos_!"
   ]
  }
 ],
 "metadata": {
  "accelerator": "GPU",
  "colab": {
   "collapsed_sections": [],
   "name": "Common Gotchas in JAX",
   "provenance": [],
   "toc_visible": true
  },
  "jupytext": {
   "formats": "ipynb,md:myst"
  },
  "kernelspec": {
   "display_name": "Python 3",
   "language": "python",
   "name": "python3"
  },
  "language_info": {
   "codemirror_mode": {
    "name": "ipython",
    "version": 3
   },
   "file_extension": ".py",
   "mimetype": "text/x-python",
   "name": "python",
   "nbconvert_exporter": "python",
   "pygments_lexer": "ipython3",
   "version": "3.7.6"
  }
 },
 "nbformat": 4,
 "nbformat_minor": 1
}
